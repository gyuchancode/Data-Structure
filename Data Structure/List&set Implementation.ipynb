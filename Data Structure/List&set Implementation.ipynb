{
 "cells": [
  {
   "cell_type": "code",
   "execution_count": 1,
   "metadata": {},
   "outputs": [],
   "source": [
    "items = [] \n",
    "items2 = []\n",
    "\n",
    "def insert(items, pos, elem) :\n",
    "    items.insert(pos, elem)\n",
    "    \n",
    "def delete(items, pos) :\n",
    "    items.pop(pos)\n",
    "\n",
    "def getEntry(items, pos): return items[pos]\n",
    "\n",
    "def isEmpty(items):\n",
    "    if len(items) == 0 :\n",
    "        return True\n",
    "    else :\n",
    "        return False\n",
    "\n",
    "#def isEmpty( ): return len(items) == 0\t\n",
    "\n",
    "def size(items): return len(items)\n",
    "def clear(items): \n",
    "    items = []       \n",
    "\n",
    "def find(items, item) : return items.index(item)\n",
    "def replace(items, pos, elem): items[pos] = elem\n",
    "def sort(items) : items.sort(reverse=True)\n",
    "def merge(items, lst) : items.extend(lst)\n",
    "\n",
    "def display(items, msg='ArrayList:'):\n",
    "    print(msg, size(items), items)"
   ]
  },
  {
   "cell_type": "code",
   "execution_count": 2,
   "metadata": {},
   "outputs": [],
   "source": [
    "insert(items, 2, 'a')\n",
    "insert(items2, 2, 'a')"
   ]
  },
  {
   "cell_type": "code",
   "execution_count": 3,
   "metadata": {},
   "outputs": [
    {
     "name": "stdout",
     "output_type": "stream",
     "text": [
      "ArrayList: 1 ['a']\n",
      "ArrayList: 1 ['a']\n"
     ]
    }
   ],
   "source": [
    "display(items)\n",
    "display(items2)"
   ]
  },
  {
   "cell_type": "code",
   "execution_count": null,
   "metadata": {},
   "outputs": [],
   "source": [
    "display('파이썬 리스트로 구현한 리스트 테스트')"
   ]
  },
  {
   "cell_type": "code",
   "execution_count": null,
   "metadata": {},
   "outputs": [],
   "source": [
    "insert(items2, 0, 10)\n",
    "insert(items2, 0, 20) ; insert(items2, 1, 30)\n",
    "display(items2)"
   ]
  },
  {
   "cell_type": "code",
   "execution_count": null,
   "metadata": {},
   "outputs": [],
   "source": [
    "insert(items2, size(items2), 40); insert(items2, 2, 50)\n",
    "display(items2)"
   ]
  },
  {
   "cell_type": "code",
   "execution_count": null,
   "metadata": {},
   "outputs": [],
   "source": [
    "display(items2, \"파이썬 리스트로 구현한 List(삽입x5): \")"
   ]
  },
  {
   "cell_type": "code",
   "execution_count": null,
   "metadata": {},
   "outputs": [],
   "source": [
    "sort(items2)\n",
    "display(items2)"
   ]
  },
  {
   "cell_type": "code",
   "execution_count": null,
   "metadata": {},
   "outputs": [],
   "source": [
    "display(\"파이썬 리스트로 구현한 List(정렬후): \")\n",
    "replace(items2, 2, 90)\n",
    "display(\"파이썬 리스트로 구현한 List(교체x1): \")\n",
    "delete(items2, 2);\tdelete(items2, size(items2) - 1);\tdelete(items2, 0)\n",
    "display(items2, \"파이썬 리스트로 구현한 List(삭제x3): \")"
   ]
  },
  {
   "cell_type": "code",
   "execution_count": null,
   "metadata": {},
   "outputs": [],
   "source": [
    "lst = [ 1, 2, 3 ]\n",
    "merge(items2, lst)\n",
    "display(\"파이썬 리스트로 구현한 List(병합+3): \")"
   ]
  },
  {
   "cell_type": "code",
   "execution_count": null,
   "metadata": {},
   "outputs": [],
   "source": [
    "clear(items2)"
   ]
  },
  {
   "cell_type": "code",
   "execution_count": null,
   "metadata": {},
   "outputs": [],
   "source": [
    "display(items2, \"파이썬 리스트로 구현한 List(정리후): \")"
   ]
  },
  {
   "cell_type": "code",
   "execution_count": 3,
   "metadata": {},
   "outputs": [],
   "source": [
    "class ArrayList:\n",
    "    def __init__(self):\n",
    "        self.items = [] \n",
    "        \n",
    "    def insert(self, pos, elem) :\n",
    "        self.items.insert(pos, elem)\n",
    "\n",
    "    def delete(self, pos) :\n",
    "        self.items.pop(pos)\n",
    "    \n",
    "    def delete(self, elem):\n",
    "        self.items.delete(self.find(elem))\n",
    "\n",
    "    def getEntry(self, pos): return self.items[pos]\n",
    "\n",
    "    def isEmpty(self):\n",
    "        if len(self.items) == 0 :\n",
    "            return True\n",
    "        else :\n",
    "            return False\n",
    "\n",
    "    #def isEmpty( ): return len(items) == 0\t\n",
    "\n",
    "    def size(self): return len(self.items)\n",
    "    def clear(self): \n",
    "        self.items = []       \n",
    "\n",
    "    def find(self, item) : return self.items.index(item)\n",
    "    def replace(self, pos, elem): self.items[pos] = elem\n",
    "    def sort(self) : self.items.sort() \n",
    "    def merge(self, lst) : self.items.extend(lst)\n",
    "\n",
    "    def display(self, msg='ArrayList:'):\n",
    "        print(msg, self.size(), self.items)"
   ]
  },
  {
   "cell_type": "code",
   "execution_count": 4,
   "metadata": {},
   "outputs": [],
   "source": [
    "s = ArrayList() "
   ]
  },
  {
   "cell_type": "code",
   "execution_count": 5,
   "metadata": {},
   "outputs": [
    {
     "name": "stdout",
     "output_type": "stream",
     "text": [
      "파이선 리스트 테스트 0 []\n"
     ]
    }
   ],
   "source": [
    "s.display('파이선 리스트 테스트')"
   ]
  },
  {
   "cell_type": "code",
   "execution_count": 6,
   "metadata": {},
   "outputs": [],
   "source": [
    "s.insert(0, 10); s.insert(0, 20); s.insert(1,30)"
   ]
  },
  {
   "cell_type": "code",
   "execution_count": 7,
   "metadata": {},
   "outputs": [
    {
     "name": "stdout",
     "output_type": "stream",
     "text": [
      "ArrayList: 3 [20, 30, 10]\n"
     ]
    }
   ],
   "source": [
    "s.display()"
   ]
  },
  {
   "cell_type": "code",
   "execution_count": null,
   "metadata": {},
   "outputs": [],
   "source": [
    "s.sort(); s.display()"
   ]
  },
  {
   "cell_type": "code",
   "execution_count": null,
   "metadata": {},
   "outputs": [],
   "source": [
    "lst=[1,2,3]"
   ]
  },
  {
   "cell_type": "code",
   "execution_count": null,
   "metadata": {},
   "outputs": [],
   "source": [
    "s.merge(lst); s.display()"
   ]
  },
  {
   "cell_type": "code",
   "execution_count": null,
   "metadata": {},
   "outputs": [],
   "source": [
    "s.clear(); s.display()"
   ]
  },
  {
   "cell_type": "code",
   "execution_count": null,
   "metadata": {},
   "outputs": [],
   "source": [
    "s = ArrayList()\n",
    "s.display('파이썬 리스트로 구현한 리스트 테스트')\n",
    "s.insert(0, 10);\t\ts.insert(0, 20);     s.insert(1, 30)\n",
    "s.insert(s.size(), 40);\t\ts.insert(2, 50)\n",
    "s.display(\"파이썬 리스트로 구현한 List(삽입x5): \")\n",
    "s.sort()\n",
    "s.display(\"파이썬 리스트로 구현한 List(정렬후): \")\n",
    "s.replace(2, 90)\n",
    "s.display(\"파이썬 리스트로 구현한 List(교체x1): \")\n",
    "s.delete(2);\ts.delete(s.size() - 1);\ts.delete(0)\n",
    "s.display(\"파이썬 리스트로 구현한 List(삭제x3): \")\n",
    "lst = [ 1, 2, 3 ]\n",
    "s.merge(lst)\n",
    "s.display(\"파이썬 리스트로 구현한 List(병합+3): \")\n",
    "s.clear()\n",
    "s.display(\"파이썬 리스트로 구현한 List(정리후): \")\n"
   ]
  },
  {
   "cell_type": "code",
   "execution_count": null,
   "metadata": {},
   "outputs": [],
   "source": [
    "#======================================================================\n",
    "# 3.4절\n",
    "#======================================================================\n",
    "def myLineEditor() :\n",
    "    list = ArrayList()\n",
    "    while True :\n",
    "        command = input(\"[메뉴선택] i-입력, d-삭제, r-변경, p-출력, l-파일읽기, s-저장, q-종료=> \")\n",
    "        \n",
    "        if command == 'i' :\t\n",
    "            pos = int( input(\"  입력행 번호: \"))\n",
    "            str = input(\"  입력행 내용: \") \n",
    "            list.insert(pos, str)\n",
    "        elif command == 'd' :\n",
    "            pos = int( input(\"  삭제행 번호: \"))\n",
    "            list.delete(pos)\n",
    "        elif command == 'r' :\n",
    "            pos = int( input(\"  변경행 번호: \"))\n",
    "            str = input(\"  변경행 내용: \")   \n",
    "            list.replace(pos, str)       \n",
    "        elif command == 'q' : return      \n",
    "        elif command == 'p' :          \n",
    "            print('Line Editor')\n",
    "            for line in range (list.size()) :   \n",
    "                print('[%2d] '%line, end='')    \n",
    "                print(list.getEntry(line))      \n",
    "            print()               \n",
    "        elif command == 'l' :       \n",
    "            filename = 'test.txt'\n",
    "            infile = open(filename , \"r\")       \n",
    "            lines = infile.readlines()       \n",
    "            for line in lines:         \n",
    "                list.insert(list.size(), line.rstrip('\\n'))\n",
    "            infile.close()\n",
    "        elif command == 's' :\n",
    "            filename = 'test.txt'\n",
    "            outfile = open(filename , \"w\")\n",
    "            for i in range(list.size()) :\n",
    "                outfile.write(list.getItem(i)+'\\n')\n",
    "            outfile.close()\n",
    "\n",
    "myLineEditor()\n"
   ]
  },
  {
   "cell_type": "code",
   "execution_count": 1,
   "metadata": {},
   "outputs": [],
   "source": [
    "#======================================================================\n",
    "# 3.6절\n",
    "#======================================================================\n",
    "class Set:   \n",
    "    def __init__( self ):\n",
    "        self.items = []\n",
    "\n",
    "    def size( self ): \n",
    "        return len(self.items)\n",
    "    def display(self, msg):\n",
    "        print(msg, self.items)\n",
    "\n",
    "#    def contains(self, item) :\n",
    "#       return item in self.items\n",
    "\n",
    "    def contains(self, item) :\n",
    "        for i in range(len(self.items)):\n",
    "            if self.items[i] == item :\n",
    "                return True\n",
    "        return False\n",
    "\n",
    "    def insert(self, elem) :\n",
    "        if elem not in self.items :\n",
    "           self.items.append(elem)\n",
    "\n",
    "    def delete(self, elem) :\n",
    "        if elem in self.items :\n",
    "           self.items.remove(elem)\n",
    "\n",
    "    def union( self, setB ):   \n",
    "        setC = Set()\n",
    "        setC.items = list(self.items)\n",
    "        \n",
    "        for elem in setB.items :\n",
    "            if elem not in self.items :\n",
    "                setC.items.append(elem)\n",
    "        return setC         \n",
    "\n",
    "    def intersect( self, setB ):\n",
    "        setC = Set()\n",
    "        for elem in setB.items :\n",
    "            if elem in self.items :\n",
    "                setC.items.append(elem)\t\n",
    "        return setC\n",
    "\n",
    "    def difference( self, setB ):    \n",
    "        setC = Set()\n",
    "        for elem in self.items:   \n",
    "            if elem not in setB.items:\n",
    "                setC.items.append(elem)\n",
    "        return setC\n"
   ]
  },
  {
   "cell_type": "code",
   "execution_count": 2,
   "metadata": {},
   "outputs": [
    {
     "name": "stdout",
     "output_type": "stream",
     "text": [
      "Set A: ['휴대폰', '지갑', '손수건']\n",
      "Set B: ['빗', '파이썬 자료구조', '야구공', '지갑']\n",
      "Set A: ['휴대폰', '지갑']\n",
      "Set B: ['빗', '파이썬 자료구조', '야구공', '지갑']\n",
      "A U B: ['휴대폰', '지갑', '빗', '파이썬 자료구조', '야구공']\n",
      "A ^ B: ['지갑']\n",
      "A – B: ['휴대폰']\n"
     ]
    }
   ],
   "source": [
    "setA = Set()\n",
    "setA.insert('휴대폰')\n",
    "setA.insert('지갑')\n",
    "setA.insert('손수건')\n",
    "setA.display('Set A:')\n",
    "\n",
    "setB = Set()\n",
    "setB .insert('빗')\n",
    "setB .insert('파이썬 자료구조')\n",
    "setB .insert('야구공')\n",
    "setB .insert('지갑')\n",
    "setB.display('Set B:')\n",
    "\n",
    "setB.insert('빗')\n",
    "setA.delete('손수건')\n",
    "setA.delete('발수건')\n",
    "setA.display('Set A:')\n",
    "setB.display('Set B:')\n",
    "\n",
    "setA.union(setB).display('A U B:')\n",
    "setA.intersect(setB).display('A ^ B:')\n",
    "setA.difference(setB).display('A – B:')"
   ]
  }
 ],
 "metadata": {
  "kernelspec": {
   "display_name": "Python 3 (ipykernel)",
   "language": "python",
   "name": "python3"
  },
  "language_info": {
   "codemirror_mode": {
    "name": "ipython",
    "version": 3
   },
   "file_extension": ".py",
   "mimetype": "text/x-python",
   "name": "python",
   "nbconvert_exporter": "python",
   "pygments_lexer": "ipython3",
   "version": "3.9.13"
  }
 },
 "nbformat": 4,
 "nbformat_minor": 4
}
