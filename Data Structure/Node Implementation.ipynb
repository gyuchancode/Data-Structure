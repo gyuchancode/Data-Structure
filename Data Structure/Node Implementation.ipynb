{
 "cells": [
  {
   "cell_type": "code",
   "execution_count": 1,
   "id": "9c13effc",
   "metadata": {},
   "outputs": [],
   "source": [
    "class Node:\n",
    "    def __init__(self,elem,link=None):\n",
    "        self.data = elem\n",
    "        self.link = link"
   ]
  },
  {
   "cell_type": "code",
   "execution_count": 5,
   "id": "f6234530",
   "metadata": {},
   "outputs": [],
   "source": [
    "n1 = Node(1,None)"
   ]
  },
  {
   "cell_type": "code",
   "execution_count": 6,
   "id": "1cc27dbd",
   "metadata": {},
   "outputs": [
    {
     "data": {
      "text/plain": [
       "1"
      ]
     },
     "execution_count": 6,
     "metadata": {},
     "output_type": "execute_result"
    }
   ],
   "source": [
    "n1.data"
   ]
  },
  {
   "cell_type": "code",
   "execution_count": 8,
   "id": "5833b3d1",
   "metadata": {},
   "outputs": [],
   "source": [
    "n2 =Node(3,None)"
   ]
  },
  {
   "cell_type": "code",
   "execution_count": 9,
   "id": "6ab196d2",
   "metadata": {},
   "outputs": [
    {
     "data": {
      "text/plain": [
       "3"
      ]
     },
     "execution_count": 9,
     "metadata": {},
     "output_type": "execute_result"
    }
   ],
   "source": [
    "n2.data"
   ]
  },
  {
   "cell_type": "code",
   "execution_count": 10,
   "id": "685a1ba9",
   "metadata": {},
   "outputs": [],
   "source": [
    "n1.link = n2"
   ]
  },
  {
   "cell_type": "code",
   "execution_count": 11,
   "id": "c284918c",
   "metadata": {},
   "outputs": [
    {
     "data": {
      "text/plain": [
       "3"
      ]
     },
     "execution_count": 11,
     "metadata": {},
     "output_type": "execute_result"
    }
   ],
   "source": [
    "n1.link.data"
   ]
  },
  {
   "cell_type": "code",
   "execution_count": 13,
   "id": "3035aec9",
   "metadata": {},
   "outputs": [],
   "source": [
    "n3 = Node(25,None)"
   ]
  },
  {
   "cell_type": "code",
   "execution_count": 14,
   "id": "c4fa58be",
   "metadata": {},
   "outputs": [],
   "source": [
    "n2.link = n3"
   ]
  },
  {
   "cell_type": "code",
   "execution_count": 15,
   "id": "3fa28a7e",
   "metadata": {},
   "outputs": [
    {
     "data": {
      "text/plain": [
       "25"
      ]
     },
     "execution_count": 15,
     "metadata": {},
     "output_type": "execute_result"
    }
   ],
   "source": [
    "n1.link.link.data"
   ]
  },
  {
   "cell_type": "code",
   "execution_count": 17,
   "id": "5a091ba3",
   "metadata": {},
   "outputs": [],
   "source": [
    "head = Node(\"A\",None)"
   ]
  },
  {
   "cell_type": "code",
   "execution_count": 18,
   "id": "c1cdd4d1",
   "metadata": {},
   "outputs": [],
   "source": [
    "head = Node(\"B\",head)"
   ]
  },
  {
   "cell_type": "code",
   "execution_count": 19,
   "id": "8deb48be",
   "metadata": {},
   "outputs": [
    {
     "data": {
      "text/plain": [
       "'B'"
      ]
     },
     "execution_count": 19,
     "metadata": {},
     "output_type": "execute_result"
    }
   ],
   "source": [
    "head.data"
   ]
  },
  {
   "cell_type": "code",
   "execution_count": 20,
   "id": "4859c38e",
   "metadata": {},
   "outputs": [
    {
     "data": {
      "text/plain": [
       "'A'"
      ]
     },
     "execution_count": 20,
     "metadata": {},
     "output_type": "execute_result"
    }
   ],
   "source": [
    "head.link.data"
   ]
  },
  {
   "cell_type": "code",
   "execution_count": 21,
   "id": "839ee040",
   "metadata": {},
   "outputs": [],
   "source": [
    "head.link.link= Node(\"C\",None)"
   ]
  },
  {
   "cell_type": "code",
   "execution_count": 22,
   "id": "6a707439",
   "metadata": {},
   "outputs": [
    {
     "data": {
      "text/plain": [
       "'C'"
      ]
     },
     "execution_count": 22,
     "metadata": {},
     "output_type": "execute_result"
    }
   ],
   "source": [
    "head.link.link.data"
   ]
  },
  {
   "cell_type": "code",
   "execution_count": 24,
   "id": "01f0f2d4",
   "metadata": {},
   "outputs": [],
   "source": [
    "next = next.link"
   ]
  },
  {
   "cell_type": "code",
   "execution_count": 27,
   "id": "c34ba43d",
   "metadata": {},
   "outputs": [
    {
     "data": {
      "text/plain": [
       "'B'"
      ]
     },
     "execution_count": 27,
     "metadata": {},
     "output_type": "execute_result"
    }
   ],
   "source": [
    "next.data"
   ]
  },
  {
   "cell_type": "code",
   "execution_count": 34,
   "id": "fd97c223",
   "metadata": {},
   "outputs": [
    {
     "name": "stdout",
     "output_type": "stream",
     "text": [
      "B\n",
      "A\n",
      "C\n"
     ]
    }
   ],
   "source": [
    "while (next != None):\n",
    "    print(next.data)\n",
    "    next = next.link"
   ]
  },
  {
   "cell_type": "code",
   "execution_count": 48,
   "id": "01d1edc0",
   "metadata": {},
   "outputs": [],
   "source": [
    "next = head"
   ]
  },
  {
   "cell_type": "code",
   "execution_count": 49,
   "id": "b5cd0ddc",
   "metadata": {},
   "outputs": [],
   "source": [
    "head=Node(2,None)\n",
    "head.link=Node(1,None)\n",
    "head.link.link=Node(0,None)\n",
    "head.link.link.link=Node(3,None)\n",
    "head = Node(2,Node(1,Node(0,Node(3,None))))"
   ]
  },
  {
   "cell_type": "code",
   "execution_count": 50,
   "id": "50e98adc",
   "metadata": {
    "scrolled": true
   },
   "outputs": [
    {
     "name": "stdout",
     "output_type": "stream",
     "text": [
      "2\n",
      "1\n",
      "0\n",
      "3\n"
     ]
    }
   ],
   "source": [
    "while (next != None):\n",
    "    print(next.data)\n",
    "    next = next.link"
   ]
  },
  {
   "cell_type": "code",
   "execution_count": 7,
   "id": "88549c9b",
   "metadata": {},
   "outputs": [],
   "source": [
    "class LinkedStack:\n",
    "    def __init__(self):\n",
    "        self.top = None\n",
    "        \n",
    "    def isEmpty(self): return self.top == None\n",
    "    def clear(self): self.top = None\n",
    "    \n",
    "    def push(self,item):\n",
    "        n = Node(item,self.top)\n",
    "        self.top = n\n",
    "        \n",
    "    def pop(self):\n",
    "        if not self.isEmpty():\n",
    "            n = self.top\n",
    "            self.top = n.link\n",
    "            return n.data\n",
    "        \n",
    "    def peek(self):\n",
    "        if not self.isEmpty():\n",
    "            return self.top.data\n",
    "        \n",
    "    def size(self):\n",
    "        node = self.top\n",
    "        count = 0\n",
    "        while not node == None:\n",
    "            node = node.link\n",
    "            count += 1\n",
    "        return count\n",
    "    \n",
    "    def "
   ]
  },
  {
   "cell_type": "code",
   "execution_count": null,
   "id": "7309ce84",
   "metadata": {},
   "outputs": [],
   "source": [
    "while \n",
    "int(input(\"양의 정수를 입력하세요(종료: -1): \"))"
   ]
  },
  {
   "cell_type": "code",
   "execution_count": 5,
   "id": "249cdbbd",
   "metadata": {},
   "outputs": [],
   "source": [
    "L1 = Node(7,None)\n",
    "L2 = Node(21,None)\n",
    "L3 = Node(5,None)\n",
    "L4 = Node(9,None)\n",
    "L5 = Node(3,None)\n",
    "L6 = Node(2,None)\n",
    "L7 = Node(9,None)\n",
    "L8 = Node(1,None)\n",
    "\n",
    "L1.link = L2\n",
    "L2.link = L3\n",
    "L3.link = L4\n",
    "L4.link = L5\n",
    "L5.Iink = L6\n",
    "L6.link = L7\n",
    "L7.link = L8\n",
    "\n",
    "next = L1"
   ]
  },
  {
   "cell_type": "code",
   "execution_count": 7,
   "id": "735afe75",
   "metadata": {},
   "outputs": [
    {
     "name": "stdout",
     "output_type": "stream",
     "text": [
      "[3]\n"
     ]
    }
   ],
   "source": [
    "while (next != None):\n",
    "    my_list=[]\n",
    "    my_list.append(next.data)\n",
    "    next = next.link\n",
    "print(my_list)"
   ]
  }
 ],
 "metadata": {
  "kernelspec": {
   "display_name": "Python 3 (ipykernel)",
   "language": "python",
   "name": "python3"
  },
  "language_info": {
   "codemirror_mode": {
    "name": "ipython",
    "version": 3
   },
   "file_extension": ".py",
   "mimetype": "text/x-python",
   "name": "python",
   "nbconvert_exporter": "python",
   "pygments_lexer": "ipython3",
   "version": "3.9.12"
  }
 },
 "nbformat": 4,
 "nbformat_minor": 5
}
