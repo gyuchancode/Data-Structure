{
 "cells": [
  {
   "cell_type": "code",
   "execution_count": null,
   "id": "ec03bcf4",
   "metadata": {},
   "outputs": [],
   "source": [
    "#선택정렬(가장 큰 숫자와 가장 작은 숫자를 옮김)\n",
    "def selection_sort(A):\n",
    "    n = len(A)\n",
    "    for i in range(n-1)\n",
    "        least= i;\n",
    "        for j in range(i+1,n):\n",
    "            if (A[j]<A[least]):\n",
    "                least = j\n",
    "        A[i],A[least] = A[least],A[i]\n",
    "        printstep(A,i+1);\n",
    "\n",
    "#삽입정렬(정렬안된 것을 정렬된 부분에 끼워넣음)\n",
    "def insertion_sort(A):\n",
    "    n =len(A)\n",
    "    for i in range(1,n):\n",
    "        key = A[i]\n",
    "        j = i-1\n",
    "        while j>=0 and A[j] > key:\n",
    "            A[j+1]= A[j]\n",
    "            j-= 1\n",
    "        A[j+1] = key\n",
    "        printstep(A,i)\n",
    "\n",
    "#버블정렬(맨 큰 숫자가 뒤로감)\n",
    "def bubble_sort(A):\n",
    "    n = len(A)\n",
    "    for i in range(n-1,0,-1):\n",
    "        bChanged = False\n",
    "        for j in range (i):\n",
    "            if (A[j]>A[j+1]):\n",
    "                A[j],A[j+1] = A[j+1],A[j]\n",
    "                bChanged = True\n",
    "                \n",
    "        if not bChanged: break;\n",
    "        printStep(A,n-i);\n",
    "        \n",
    "#퀵쇼트(기준의 숫자가 정렬되었을떼의 인덱스를 가짐)"
   ]
  }
 ],
 "metadata": {
  "kernelspec": {
   "display_name": "Python 3 (ipykernel)",
   "language": "python",
   "name": "python3"
  },
  "language_info": {
   "codemirror_mode": {
    "name": "ipython",
    "version": 3
   },
   "file_extension": ".py",
   "mimetype": "text/x-python",
   "name": "python",
   "nbconvert_exporter": "python",
   "pygments_lexer": "ipython3",
   "version": "3.9.12"
  }
 },
 "nbformat": 4,
 "nbformat_minor": 5
}
