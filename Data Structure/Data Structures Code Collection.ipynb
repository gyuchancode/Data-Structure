{
 "cells": [
  {
   "cell_type": "markdown",
   "id": "af548538",
   "metadata": {},
   "source": [
    "# 함수 버전 리스트"
   ]
  },
  {
   "cell_type": "code",
   "execution_count": 4,
   "id": "e37c573a",
   "metadata": {},
   "outputs": [],
   "source": [
    "items = []\n",
    "def insert(pos,elem):\n",
    "    items.insert(pos,elem)\n",
    "def delete(pos):\n",
    "    return items.pop(pos)\n",
    "def getEntry(pos): \n",
    "    return items[pos]\n",
    "def isEmpty():\n",
    "    return len(items) == 0\n",
    "def size():\n",
    "    return len(items)\n",
    "def clear():\n",
    "    items = []\n",
    "def find(item):\n",
    "    return items.index(item)\n",
    "def replace(pos,elem):\n",
    "    items[pos] = elem\n",
    "def sort():\n",
    "    items.sort()\n",
    "def merge(lst):\n",
    "    items.extend(lst)\n",
    "def display(msg='ArrayList:'):\n",
    "    print(msg,size(),items)"
   ]
  },
  {
   "cell_type": "markdown",
   "id": "199c9bea",
   "metadata": {},
   "source": [
    "# 클래스 버전 리스트"
   ]
  },
  {
   "cell_type": "code",
   "execution_count": 5,
   "id": "7ed77d2b",
   "metadata": {},
   "outputs": [],
   "source": [
    "class ArrayList:\n",
    "    def __init__(self):\n",
    "        self.items = [] \n",
    "        \n",
    "    def insert(self, pos, elem) :\n",
    "        self.items.insert(pos, elem)\n",
    "\n",
    "    def delete(self, pos) :\n",
    "        self.items.pop(pos)\n",
    "    \n",
    "    def delete(self, elem):\n",
    "        self.items.delete(self.find(elem))\n",
    "\n",
    "    def getEntry(self, pos): return self.items[pos]\n",
    "\n",
    "    def isEmpty(self):\n",
    "        if len(self.items) == 0 :\n",
    "            return True\n",
    "        else :\n",
    "            return False\n",
    "\n",
    "    #def isEmpty( ): return len(items) == 0\t\n",
    "\n",
    "    def size(self): return len(self.items)\n",
    "    def clear(self): \n",
    "        self.items = []       \n",
    "\n",
    "    def find(self, item) : return self.items.index(item)\n",
    "    def replace(self, pos, elem): self.items[pos] = elem\n",
    "    def sort(self) : self.items.sort() \n",
    "    def merge(self, lst) : self.items.extend(lst)\n",
    "\n",
    "    def display(self, msg='ArrayList:'):\n",
    "        print(msg, self.size(), self.items)"
   ]
  },
  {
   "cell_type": "markdown",
   "id": "16923063",
   "metadata": {},
   "source": [
    "# 클래스 버젼 집합"
   ]
  },
  {
   "cell_type": "code",
   "execution_count": 6,
   "id": "bd954426",
   "metadata": {},
   "outputs": [],
   "source": [
    "class Set:   \n",
    "    def __init__( self ):\n",
    "        self.items = []\n",
    "\n",
    "    def size( self ): \n",
    "        return len(self.items)\n",
    "    def display(self, msg):\n",
    "        print(msg, self.items)\n",
    "\n",
    "    def contains(self, item) :\n",
    "        return item in self.items\n",
    "\n",
    "    def contains(self, item) :\n",
    "        for i in range(len(self.items)):\n",
    "            if self.items[i] == item :\n",
    "                return True\n",
    "        return False\n",
    "\n",
    "    def insert(self, elem) :\n",
    "        if elem not in self.items :\n",
    "            self.items.append(elem)\n",
    "\n",
    "    def delete(self, elem) :\n",
    "        if elem in self.items :\n",
    "            self.items.remove(elem)\n",
    "\n",
    "    def union( self, setB ):   \n",
    "        setC = Set()\n",
    "        setC.items = list(self.items)\n",
    "        \n",
    "        for elem in setB.items :\n",
    "            if elem not in self.items :\n",
    "                setC.items.append(elem)\n",
    "        return setC         \n",
    "\n",
    "    def intersect( self, setB ):\n",
    "        setC = Set()\n",
    "        for elem in setB.items :\n",
    "            if elem in self.items :\n",
    "                setC.items.append(elem)\t\n",
    "        return setC\n",
    "\n",
    "    def difference( self, setB ):    \n",
    "        setC = Set()\n",
    "        for elem in self.items:   \n",
    "            if elem not in setB.items:\n",
    "                setC.items.append(elem)\n",
    "        return setC\n"
   ]
  },
  {
   "cell_type": "markdown",
   "id": "34fc63ab",
   "metadata": {},
   "source": [
    "# 함수 버전 스택"
   ]
  },
  {
   "cell_type": "code",
   "execution_count": 8,
   "id": "71a38f82",
   "metadata": {},
   "outputs": [],
   "source": [
    "top = []\n",
    "\n",
    "def isEmpty():\n",
    "    return len(top) == 0\n",
    "def push(item):\n",
    "    top.append(item)\n",
    "def pop():\n",
    "    if not isEmpty():\n",
    "        return top.pop(-1)\n",
    "def peek():\n",
    "    if not isEmpty():\n",
    "        return top[-1]\n",
    "def size():\n",
    "    return len(top)\n",
    "def clear():\n",
    "    global top\n",
    "    top=[]"
   ]
  },
  {
   "cell_type": "markdown",
   "id": "0717087f",
   "metadata": {},
   "source": [
    "# 클래스 버전 스택"
   ]
  },
  {
   "cell_type": "code",
   "execution_count": 23,
   "id": "19319191",
   "metadata": {},
   "outputs": [],
   "source": [
    "class Stack:\n",
    "    def __init__(self):\n",
    "        self.top = []\n",
    "    \n",
    "    def isEmpty(self): return len(self.top) == 0\n",
    "    def size(self): return len(self.top)\n",
    "    def clear(self): self.top = []\n",
    "        \n",
    "    def push(self,item):\n",
    "        self.top.append(item)\n",
    "        \n",
    "    def pop(self):\n",
    "        if not self.isEmpty():\n",
    "            return self.top.pop(-1)\n",
    "    \n",
    "    def peek(self):\n",
    "        if not self.isEmpty():\n",
    "            return self.top[-1]"
   ]
  },
  {
   "cell_type": "markdown",
   "id": "fbab6d1d",
   "metadata": {},
   "source": [
    "# 괄호 검사"
   ]
  },
  {
   "cell_type": "code",
   "execution_count": 24,
   "id": "d2d88f62",
   "metadata": {},
   "outputs": [],
   "source": [
    "def checkBrackets(statement):\n",
    "    stack=Stack()\n",
    "    for ch in statement:\n",
    "        if ch in ('{','[','('):\n",
    "            stack.push(ch)\n",
    "        elif ch in ('}',']',')'):\n",
    "            if stack.isEmpty() :\n",
    "                return False\n",
    "            else:\n",
    "                left = stack.pop()\n",
    "                if (ch == \"}\" and left != \"{\") or \\\n",
    "                    (ch == \"]\"and left != \"[\") or \\\n",
    "                    (ch == \")\"and left != \"(\") :\n",
    "                    return False\n",
    "    return stack.isEmpty()"
   ]
  },
  {
   "cell_type": "markdown",
   "id": "f7690710",
   "metadata": {},
   "source": [
    "# 후위 표기 수식 계산 알고리즘"
   ]
  },
  {
   "cell_type": "code",
   "execution_count": 25,
   "id": "01f77dbb",
   "metadata": {},
   "outputs": [],
   "source": [
    "def evalpostfix(expr):\n",
    "    s= Stack()\n",
    "    for token in expr:\n",
    "        if token in \"+-*/\":\n",
    "            va2 = s.pop()\n",
    "            va1 = s.pop()\n",
    "            if (token == '+'):s.push(va1+va2)\n",
    "            elif (token == '-'):s.push(va1-va2)\n",
    "            elif (token == '*'):s.push(va1*va2)\n",
    "            elif (token == '/'):s.push(va1/va2)\n",
    "        else :\n",
    "            s.push(float(token))\n",
    "\n",
    "    return s.pop()"
   ]
  },
  {
   "cell_type": "code",
   "execution_count": 26,
   "id": "9db35164",
   "metadata": {},
   "outputs": [
    {
     "name": "stdout",
     "output_type": "stream",
     "text": [
      "['8', '2', '/', '3', '-', '3', '2', '*', '+'] ---> 7.0\n"
     ]
    }
   ],
   "source": [
    "#test\n",
    "expr1=['8','2','/','3','-','3','2','*','+']\n",
    "print(expr1,'--->',evalpostfix(expr1))"
   ]
  },
  {
   "cell_type": "code",
   "execution_count": 1,
   "id": "a032cc72",
   "metadata": {},
   "outputs": [],
   "source": [
    "map = [['1','1','1','1','1','1'],\n",
    "       ['e','0','0','0','0','1'],\n",
    "       ['1','0','1','0','1','1'],\n",
    "       ['1','1','1','0','0','x'],\n",
    "       ['1','1','1','0','1','1'],\n",
    "       ['1','1','1','1','1','1']]\n",
    "MAZE_SIZE = 6"
   ]
  },
  {
   "cell_type": "markdown",
   "id": "571e1e90",
   "metadata": {},
   "source": [
    "# 깊이우선탐색 알고리즘"
   ]
  },
  {
   "cell_type": "code",
   "execution_count": null,
   "id": "e31c76b4",
   "metadata": {},
   "outputs": [],
   "source": [
    "def isValidpos(x,y):\n",
    "    if x < 0 or y < 0 or x >= MAZE_SIZE or y >= MAZE_SIZE :\n",
    "        return False\n",
    "    else:\n",
    "        return map[y][x] == '0' or map[y][x]== 'x'\n",
    "    \n",
    "def DFS():\n",
    "    stack = Stack()\n",
    "    stack.push( (0,1) )\n",
    "    print(' DFS: ')\n",
    "    \n",
    "    while not stack.isEmpty():\n",
    "        here = stack.pop()\n",
    "        print(here, end='->')\n",
    "        (x,y) = here\n",
    "        if (map[y][x] == 'x'):\n",
    "            return True\n",
    "        else:\n",
    "            map[y][x]='.'\n",
    "            if isValidpos(x,y-1): stack.push((x,y-1)) #상\n",
    "            if isValidpos(x,y+1): stack.push((x,y+1)) #하\n",
    "            if isValidpos(x-1,y): stack.push((x-1,y)) #좌\n",
    "            if isValidpos(x+1,y): stack.push((x+1,y)) #우\n",
    "        print('현재 스택: ', stack.top)\n",
    "    return False"
   ]
  },
  {
   "cell_type": "markdown",
   "id": "4df84fa2",
   "metadata": {},
   "source": [
    "# 함수버전 선형큐"
   ]
  },
  {
   "cell_type": "code",
   "execution_count": null,
   "id": "c7f1c62a",
   "metadata": {},
   "outputs": [],
   "source": [
    "def enqueue(item):\n",
    "    items.append(item)\n",
    "    \n",
    "def dequeue():\n",
    "    if not isEmpty():\n",
    "        return items.pop(0)"
   ]
  },
  {
   "cell_type": "markdown",
   "id": "0c5c50fd",
   "metadata": {},
   "source": [
    "# 공백상태와 포화상태\n",
    "• 공백상태: front == rear  \n",
    "• 포화상태: front == (rear+1) % MAX_QSIZE"
   ]
  },
  {
   "cell_type": "markdown",
   "id": "639fe74a",
   "metadata": {},
   "source": [
    "# 클래스 버전 원형큐"
   ]
  },
  {
   "cell_type": "code",
   "execution_count": 28,
   "id": "6b5484d7",
   "metadata": {},
   "outputs": [],
   "source": [
    "MAX_QSIZE = 10\n",
    "class CircularQueue :\n",
    "    def __inint__(self) :\n",
    "        self.front = 0\n",
    "        self.rear = 0\n",
    "        self.items =[None] * MAX_QSIZE\n",
    "    def isEmpty(self) : return self.front == self.rear\n",
    "    def isFull(self) : return self.front == (self.rear+1)% MAX_QSIZE\n",
    "    def clear(self) : self.front = self.rear\n",
    "        \n",
    "    def enqueue(self,item):\n",
    "        if not self.isFull():\n",
    "            self.rear = (self.rear+1)% MAX_QSIZE\n",
    "            self.items[self.rear] = item\n",
    "            \n",
    "    def dequeue(self):\n",
    "        if not self.siEmpty():\n",
    "            self.front = (self.front+1)% MAX_QSIZE\n",
    "            return self.items[self.front]\n",
    "        \n",
    "    def peek(self):\n",
    "        if not self.isEmpty():\n",
    "            return self.items[(self.front+1) % MAX_QSIZE]\n",
    "        \n",
    "    def size(self):\n",
    "        return (self.rear - self.front + MAX_QSIZE) % MAX_QSIZE\n",
    "    \n",
    "    def display(self):\n",
    "        out = []\n",
    "        if self.front < self.rear :\n",
    "            out = self.items[self.front+1:self.rear+1]\n",
    "        else:\n",
    "            out = self.items[self.front+1:MAX_QSIZE]\\\n",
    "                +self.items[0:self.rear+1]\n",
    "        print(\"[f=%s,r=%d] ==>\"%(self.front, self.rear),out)"
   ]
  },
  {
   "cell_type": "markdown",
   "id": "899efdcd",
   "metadata": {},
   "source": [
    "# 너비우선탐색 알고리즘"
   ]
  },
  {
   "cell_type": "code",
   "execution_count": 29,
   "id": "0675e63e",
   "metadata": {},
   "outputs": [],
   "source": [
    "def BFS():\n",
    "    que = CircularQueue()\n",
    "    que.enqueue( (0,1) )\n",
    "    print(' BFS: ')\n",
    "    \n",
    "    while not que.isEmpty():\n",
    "        here = que.dequeue()\n",
    "        print(here, end='->')\n",
    "        (x,y) = here\n",
    "        if (map[y][x] == 'x'):\n",
    "            return True\n",
    "        else:\n",
    "            map[y][x]='.'\n",
    "            if isValidpos(x,y-1): que.enqueue((x,y-1)) #상\n",
    "            if isValidpos(x,y+1): que.enqueue((x,y+1)) #하\n",
    "            if isValidpos(x-1,y): que.enqueue((x-1,y)) #좌\n",
    "            if isValidpos(x+1,y): que.enqueue((x+1,y)) #우\n",
    "    return False"
   ]
  },
  {
   "cell_type": "markdown",
   "id": "c3774c53",
   "metadata": {},
   "source": [
    "# 클래스 버전 원형덱"
   ]
  },
  {
   "cell_type": "code",
   "execution_count": 30,
   "id": "88ae9e8c",
   "metadata": {},
   "outputs": [],
   "source": [
    "class CircularDeque(CircularQueue):\n",
    "    def __init__(self) :\n",
    "        super().__inint__()\n",
    "        \n",
    "    def addFront(self,item):\n",
    "        if not self.isFull():\n",
    "            self.items[self.front] = item\n",
    "            self.front = self.front - 1\n",
    "            if self.front < 0 : self.front = MAX_QSIZE - 1\n",
    "                \n",
    "    def deleteRear(self):\n",
    "        if not self.isEmpty():\n",
    "            item = self.items[self.rear];\n",
    "            self.rear = self.rear -1\n",
    "            if self.rear < 0 : self.rear =  MAX_QSIZE -1\n",
    "            return item\n",
    "        \n",
    "    def getRear(self):\n",
    "        return self.items[self.rear]"
   ]
  },
  {
   "cell_type": "markdown",
   "id": "2afb0421",
   "metadata": {},
   "source": [
    "# 우선순위 큐"
   ]
  },
  {
   "cell_type": "code",
   "execution_count": 34,
   "id": "d2d1f16b",
   "metadata": {},
   "outputs": [],
   "source": [
    "class PriorityQueue:\n",
    "    def __init__(self):\n",
    "        self.items = []\n",
    "        \n",
    "    def isEmpty(self):\n",
    "        return len(self.items) == 0\n",
    "    def size(self): return len(self.items)\n",
    "    def clear(self): self.items =[]\n",
    "        \n",
    "    def enqueue(self,item):\n",
    "        self.item.append(item)\n",
    "        \n",
    "    def findMaxIndex(self):\n",
    "        if self.isEmpty(): return None\n",
    "        else:\n",
    "            highest = 0\n",
    "            for i in range(1,self.size()) :\n",
    "                if self.item[i] > self.items[highest] :\n",
    "                    highest = i\n",
    "            return highest\n",
    "        \n",
    "    def dequeue(self):\n",
    "        highest = self.findMaxIndex()\n",
    "        if highest is not None :\n",
    "            return self.items.pop(highest)\n",
    "        \n",
    "    def peek(self):\n",
    "        highest = findMaxIndex()\n",
    "        if highest is not None :\n",
    "            return self.items[highest]"
   ]
  },
  {
   "cell_type": "markdown",
   "id": "06e8e592",
   "metadata": {},
   "source": [
    "# 전략적 탐색 알고리즘"
   ]
  },
  {
   "cell_type": "code",
   "execution_count": 35,
   "id": "f925cedd",
   "metadata": {},
   "outputs": [],
   "source": [
    "def MySmartSearch() :\n",
    "    q = PriorityQueue()\n",
    "    q.enqueue((0,1,-dist(0,1)))\n",
    "    print('PQueue:')\n",
    "    \n",
    "    while not q.isEmpty():\n",
    "        here = q.dequeue()\n",
    "        print(here[0:2], end='->')\n",
    "        x,y,_=here\n",
    "        if (map[y][x] == 'x'): return True\n",
    "        else:\n",
    "            map[y][x]='.'\n",
    "            if isVaildpos(x-1,y): que.enqueue((x-1,y,-dist(x-1,y))) #좌\n",
    "            if isVaildpos(x+1,y): que.enqueue((x+1,y,-dist(x+1,y))) #우\n",
    "            if isVaildpos(x,y-1): que.enqueue((x,y-1,-dist(x,y-1))) #상\n",
    "            if isVaildpos(x,y+1): que.enqueue((x,y+1,-dist(x,y+1))) #하\n",
    "        print('우선순위큐:',q.items)\n",
    "    return False"
   ]
  },
  {
   "cell_type": "code",
   "execution_count": null,
   "id": "055335e7",
   "metadata": {},
   "outputs": [],
   "source": [
    "# 그냥 리스트로만 만들경우\n",
    "# num=0\n",
    "# my_list=[]\n",
    "# while num != -1:\n",
    "#     num  = int(input(\"양의 정수를 입력하세요(종료: -1): \"))\n",
    "#     my_list.append(num)\n",
    "# my_list[-1] = None\n",
    "# result = '->'.join(map(str,my_list))\n",
    "# print(result)"
   ]
  },
  {
   "cell_type": "markdown",
   "id": "7861183c",
   "metadata": {},
   "source": [
    "# 단순연결리스트 응용: 연결된 스택"
   ]
  },
  {
   "cell_type": "code",
   "execution_count": 18,
   "id": "e4becd44",
   "metadata": {},
   "outputs": [],
   "source": [
    "class Node:\n",
    "    def __init__(self,elem,link=None):\n",
    "        self.data = elem\n",
    "        self.link = link"
   ]
  },
  {
   "cell_type": "code",
   "execution_count": 1,
   "id": "1f603345",
   "metadata": {},
   "outputs": [],
   "source": [
    "class Node:\n",
    "    def __init__ (self,elem,link=None):\n",
    "        self.data = elem\n",
    "        self.link = link"
   ]
  },
  {
   "cell_type": "markdown",
   "id": "fc8af913",
   "metadata": {},
   "source": [
    "# 링크드스택"
   ]
  },
  {
   "cell_type": "code",
   "execution_count": 14,
   "id": "58dfabf2",
   "metadata": {},
   "outputs": [],
   "source": [
    "class LinkedStack:\n",
    "    def __init__(self):\n",
    "        self.top = None\n",
    "        \n",
    "    def isEmpty(self): return self.top == None\n",
    "    def clear(self): self.top = None\n",
    "        \n",
    "    def push(self,item):\n",
    "        n = Node(item,self.top)\n",
    "        self.top = n\n",
    "        \n",
    "    def pop(self):\n",
    "        if not self.isEmpty():\n",
    "            n = self.top\n",
    "            slef.top = n.link\n",
    "            return n.data\n",
    "    \n",
    "    def peek(self):\n",
    "        if not self.isEmpty():\n",
    "            return self.top.data\n",
    "    \n",
    "    def size(self):\n",
    "        node = self.top\n",
    "        count = 0\n",
    "        while not node == None:\n",
    "            node = node.link\n",
    "            count += 1\n",
    "        return count\n",
    "    \n",
    "    def display(self,msg='LinkedStack:'):\n",
    "        print(msg,end='')\n",
    "        node = self.top\n",
    "        while not node == None:\n",
    "            print(node.data,end='')\n",
    "            node = node.link\n",
    "        print('None')"
   ]
  },
  {
   "cell_type": "markdown",
   "id": "058db765",
   "metadata": {},
   "source": [
    "# 단순연결리스트 응용: 연결된 리스트"
   ]
  },
  {
   "cell_type": "code",
   "execution_count": 10,
   "id": "9c770190",
   "metadata": {},
   "outputs": [],
   "source": [
    "class LinkedList:\n",
    "    def __init__(self):\n",
    "        self.head = None\n",
    "         \n",
    "    def isEmpty(self): return self.head == None\n",
    "    def clear(self): self.head = None\n",
    "    \n",
    "    def size(self):\n",
    "        node = self.head\n",
    "        count = 0\n",
    "        while not node == None:\n",
    "            node = node.link\n",
    "            count += 1\n",
    "        return count\n",
    "        \n",
    "    def display(self,msg='LinkedList:'):\n",
    "        print(msg,end='')\n",
    "        node = self.head\n",
    "        while not node == None:\n",
    "            print(node.data,end='->')\n",
    "            node = node.link\n",
    "        print('None')\n",
    "        \n",
    "    def getNode(self,pos):\n",
    "        if pos < 0: return None\n",
    "        node = self.head;\n",
    "        while pos > 0 and node != None :\n",
    "            node = node.link\n",
    "            pos -=1\n",
    "        return node\n",
    "    \n",
    "    def getEntry(self,pos):\n",
    "        node = self.getNode(pos)\n",
    "        if node == None : return None\n",
    "        else: return node.data\n",
    "        \n",
    "    def replace(self,pos,elem):\n",
    "        node = self.getNode(pos)\n",
    "        if node != None: node.data = elem\n",
    "            \n",
    "    def find(self,data):\n",
    "        node = self.head;\n",
    "        while node is not None:\n",
    "            if node.data == data : return node\n",
    "            node = node.link\n",
    "        return None\n",
    "    \n",
    "    def insert(self,pos,elem):\n",
    "        before = self.getNode(pos-1)\n",
    "        if before == None:\n",
    "            self.head = Node(elem,self.head)\n",
    "        else:\n",
    "            node = Node(elem,before.link)\n",
    "            before.link = node\n",
    "            \n",
    "    def delete(self,pos):\n",
    "        before = self.getNode(pos-1)\n",
    "        if before == None:\n",
    "            if self.head is not None:\n",
    "                self.head = self.head.link\n",
    "        elif before.link != None :\n",
    "            before.link = before.link.link"
   ]
  },
  {
   "cell_type": "markdown",
   "id": "efcb1d31",
   "metadata": {},
   "source": [
    "# test"
   ]
  },
  {
   "cell_type": "code",
   "execution_count": 11,
   "id": "f7bf26c1",
   "metadata": {},
   "outputs": [
    {
     "name": "stdout",
     "output_type": "stream",
     "text": [
      "단순연결리스트로 구현한 리스트(초기상태):None\n",
      "단순연결리스트로 구현한 리스트(삽입X5):20->30->50->10->40->None\n",
      "단순연결리스트로 구현한 리스트(교체X1):20->30->90->10->40->None\n",
      "단순연결리스트로 구현한 리스트(삭제X3):30->10->None\n",
      "단순연결리스트로 구현한 리스트(정리후):None\n"
     ]
    }
   ],
   "source": [
    "s = LinkedList()\n",
    "s.display('단순연결리스트로 구현한 리스트(초기상태):')\n",
    "s.insert(0,10); s.insert(0,20); s.insert(1,30); s.insert(s.size(),40); s.insert(2,50);\n",
    "s.display('단순연결리스트로 구현한 리스트(삽입X5):')\n",
    "s.replace(2,90)\n",
    "s.display('단순연결리스트로 구현한 리스트(교체X1):')\n",
    "s.delete(2); s.delete(s.size()-1); s.delete(0);\n",
    "s.display('단순연결리스트로 구현한 리스트(삭제X3):')\n",
    "s.clear()\n",
    "s.display('단순연결리스트로 구현한 리스트(정리후):')"
   ]
  },
  {
   "cell_type": "markdown",
   "id": "0f7ac59d",
   "metadata": {},
   "source": [
    "# 원형연결리스트의 응용: 연결된 큐"
   ]
  },
  {
   "cell_type": "code",
   "execution_count": 16,
   "id": "a8b02def",
   "metadata": {},
   "outputs": [],
   "source": [
    "class CirecularLinkedQueue:\n",
    "    def __init__(self):\n",
    "        self.tail = None\n",
    "        \n",
    "    def isEmpty(self): return self.tail == None\n",
    "    def clear(self): self.tail = None\n",
    "    def peek(self):\n",
    "        if not self.isEmpty():\n",
    "            return self.tail.link.data\n",
    "    def enqueue(self,item):\n",
    "        node = Node(item,None)\n",
    "        if self.isEmpty():\n",
    "            node.link = node\n",
    "            self.tail = node\n",
    "        else:\n",
    "            node.link = self.tail.link\n",
    "            self.tail.link = node\n",
    "            self.tail = node\n",
    "            \n",
    "    def dequeue(self):\n",
    "        if not self.isEmpty():\n",
    "            data = self.tail.link.data\n",
    "            if self.tail.link == self.tail:\n",
    "                self.tail = None\n",
    "            else:\n",
    "                self.tail.link = self.tail.link\n",
    "            return data\n",
    "    \n",
    "    def size(self):\n",
    "        if self.isEmpty() : return 0\n",
    "        else:\n",
    "            count = 1\n",
    "            node = self.tail.link\n",
    "            while not node == self.tail:\n",
    "                node = node.link\n",
    "                count += 1\n",
    "            return count\n",
    "        \n",
    "    def display(self,msg='CircularLinkedQueue:'):\n",
    "        print(msg,end='')\n",
    "        if not self.isEmpty():\n",
    "            node = self.tail.link\n",
    "            while not node == self.tail:\n",
    "                print9node.data,end='')\n",
    "                node = node.link\n",
    "            print(node.data,end='')\n",
    "        print()"
   ]
  },
  {
   "cell_type": "markdown",
   "id": "b95b5ca2",
   "metadata": {},
   "source": [
    "# test"
   ]
  },
  {
   "cell_type": "code",
   "execution_count": null,
   "id": "6b666189",
   "metadata": {},
   "outputs": [],
   "source": []
  },
  {
   "cell_type": "markdown",
   "id": "7e1db040",
   "metadata": {},
   "source": [
    "# 6.5 이중연결리스트의 응용: 연결된 덱"
   ]
  },
  {
   "cell_type": "code",
   "execution_count": null,
   "id": "aed4d7c7",
   "metadata": {},
   "outputs": [],
   "source": [
    "class DNode:\n",
    "    def __init__(self,elem,prev=None,next=None):\n",
    "        self.data = elem\n",
    "        self.prev = prev\n",
    "        self.next = next"
   ]
  },
  {
   "cell_type": "code",
   "execution_count": 17,
   "id": "475e65d5",
   "metadata": {},
   "outputs": [],
   "source": [
    "class DoublyLinkedDeque:\n",
    "    def __init__(self):\n",
    "        self.front = None\n",
    "        self.rear = None\n",
    "        \n",
    "    def isEmpty(self): return self.front == None\n",
    "    def clear(self): self.front = self.rear = None\n",
    "    \n",
    "    def size(self):\n",
    "        node = self.front\n",
    "        count = 0\n",
    "        while not node == None:\n",
    "            node = node.next\n",
    "            count += 1\n",
    "        return count\n",
    "        \n",
    "    def display(self,msg='DoublyLinkedDeque:'):\n",
    "        print(msg,end='')\n",
    "        node = self.front\n",
    "        while not node == None:\n",
    "            print(node.data,end='->')\n",
    "            node = node.next\n",
    "        print('None')\n",
    "        \n",
    "    def addFront(self,item):\n",
    "        node = Dnode(item,None,self.front)\n",
    "        if(self.isEmpty()):\n",
    "            self.front = self.rear = node\n",
    "        else:\n",
    "            self.front.prev = node\n",
    "            self.front = node\n",
    "            \n",
    "    def addRear(self,item):\n",
    "        node = Dnode(item,self.rear,None)\n",
    "        if(self.isEmpty()):\n",
    "            self.front = self.rear = node\n",
    "        else:\n",
    "            self.rear.prev = node\n",
    "            self.rear = node\n",
    "            \n",
    "    def deleteFront(self):\n",
    "        if not self.isEmpty():\n",
    "            data = self.front.data\n",
    "            self.front = self.front.next\n",
    "            if self.fornt==None :\n",
    "                self.rear = None\n",
    "            else:\n",
    "                self.front.prev = None\n",
    "            return data\n",
    "        \n",
    "    def deleteRear(self):\n",
    "        if not self.isEmpty():\n",
    "            data = self.rear.data\n",
    "            self.rear = self.rear.prev\n",
    "            if self.rear == None :\n",
    "                self.front = None\n",
    "            else:\n",
    "                self.rear.next = None\n",
    "            return data"
   ]
  },
  {
   "cell_type": "markdown",
   "id": "1b9103a8",
   "metadata": {},
   "source": [
    "# 정렬"
   ]
  },
  {
   "cell_type": "markdown",
   "id": "8c09484e",
   "metadata": {},
   "source": [
    "# 1. 선택정렬"
   ]
  },
  {
   "cell_type": "code",
   "execution_count": 9,
   "id": "c82d3276",
   "metadata": {},
   "outputs": [],
   "source": [
    "def selection_sort(A):\n",
    "    n = len(A) # A의 크기를 구하고\n",
    "    for i in range(n-1): # i를 n-1번까지 반복\n",
    "        least= i; #최소 값을 i라 가정 하면\n",
    "        for j in range(i+1,n):  # j는 i+!부터 n-1 까지 반복\n",
    "            if (A[j]<A[least]): # 만약 A의 j번째 인덱스가 A의 최소 값보다 작다면 \n",
    "                least = j # 최소 값은 j가 된다.\n",
    "        A[i],A[least]=A[least],A[i] # 서로 자리를 교환\n",
    "        printStep(A,i+1);\n",
    "\n",
    "def printStep(arr,val):\n",
    "    print(\" Step %2d = \"%val,end='')\n",
    "    print(arr)"
   ]
  },
  {
   "cell_type": "markdown",
   "id": "b8a61c73",
   "metadata": {},
   "source": [
    "## test"
   ]
  },
  {
   "cell_type": "code",
   "execution_count": 11,
   "id": "dd623402",
   "metadata": {},
   "outputs": [
    {
     "name": "stdout",
     "output_type": "stream",
     "text": [
      "Original : [5, 3, 8, 4, 9, 1, 6, 2, 7]\n",
      " Step  1 = [1, 3, 8, 4, 9, 5, 6, 2, 7]\n",
      " Step  2 = [1, 2, 8, 4, 9, 5, 6, 3, 7]\n",
      " Step  3 = [1, 2, 3, 4, 9, 5, 6, 8, 7]\n",
      " Step  4 = [1, 2, 3, 4, 9, 5, 6, 8, 7]\n",
      " Step  5 = [1, 2, 3, 4, 5, 9, 6, 8, 7]\n",
      " Step  6 = [1, 2, 3, 4, 5, 6, 9, 8, 7]\n",
      " Step  7 = [1, 2, 3, 4, 5, 6, 7, 8, 9]\n",
      " Step  8 = [1, 2, 3, 4, 5, 6, 7, 8, 9]\n",
      "Selection: [1, 2, 3, 4, 5, 6, 7, 8, 9]\n"
     ]
    }
   ],
   "source": [
    "data= [5,3,8,4,9,1,6,2,7]\n",
    "print(\"Original :\",data)\n",
    "selection_sort(data)\n",
    "print(\"Selection:\",data)"
   ]
  },
  {
   "cell_type": "markdown",
   "id": "a8e0c7c1",
   "metadata": {},
   "source": [
    "# 2. 삽입정렬"
   ]
  },
  {
   "cell_type": "code",
   "execution_count": 20,
   "id": "6d739286",
   "metadata": {},
   "outputs": [],
   "source": [
    "def insertion_sort(A):\n",
    "    n = len(A)\n",
    "    for i in range(1,n):\n",
    "        key = A[i]\n",
    "        j = i-1\n",
    "        while j>=0 and A[j]>key:\n",
    "            A[j+1] = A[j]\n",
    "            j -= 1\n",
    "        A[j+1] = key\n",
    "        printStep(A,i)"
   ]
  },
  {
   "cell_type": "markdown",
   "id": "69df001a",
   "metadata": {},
   "source": [
    "# 3.버블정렬"
   ]
  },
  {
   "cell_type": "code",
   "execution_count": null,
   "id": "5dd0da33",
   "metadata": {},
   "outputs": [],
   "source": [
    "def bublle_sort(A) :\n",
    "    n = len(A) # A의 크기를 n이고\n",
    "    for i in range(n-1,0,-1): #i를 n-1, 0까지 -1 반복한다.\n",
    "        bChanged = False  #bChanged 에는 False를 넣어주고\n",
    "        for j in range (i): #j가 i 번 반복시켜준다.\n",
    "            if (A[j]>A[j+1]): # 만약 A[j]가 A[j+1]보다 크다면 \n",
    "                A[j],A[j+1] = A[j+1],A[j] # 서로를 바꿔주고\n",
    "                bChanged = True # bCanged = true로 바꿔준다\n",
    "    \n",
    "        if not bChanged: break; # 만약 바꿀 것이 없다면 반복을 종료한다.\n",
    "        printStep(A,n -i); # 하는 과정을 출력한다."
   ]
  },
  {
   "cell_type": "markdown",
   "id": "6ca3efaa",
   "metadata": {},
   "source": [
    "# 4. 퀵정렬"
   ]
  },
  {
   "cell_type": "code",
   "execution_count": 21,
   "id": "99e1b271",
   "metadata": {},
   "outputs": [],
   "source": [
    "def quick_sort(A):\n",
    "    if len(A) <= 1: # 범위가 1보다 작을 경우에는 \n",
    "        return A # 정렬 할 필요 없이 바로 리턴\n",
    "    pivot = A[len(A) // 2] # 기준 값을 노드의 중앙의 인덱스 값으로 잡고\n",
    "    lesser_A, equal_A, greater_A= [], [], [] # 기준 보다 큰,작은,동일한 리스트를 3개 만든다.\n",
    "    for num in A: # A에 있는 원소들 중에서\n",
    "        if num < pivot: # 만약 원소들 중 기준 값 보다 작다면\n",
    "            lesser_A.append(num) # 작은 리스트에 넣어주고\n",
    "        elif num > pivot: # 반대로 크다면\n",
    "            greater_A.append(num) # 큰 리스트에 넣어주고\n",
    "        else:\n",
    "            equal_A.append(num) # 그렇지 않으면 같은 리스트에 넣어준다.\n",
    "    return quick_sort(lesser_A) + equal_A + quick_sort(greater_A) # 마지막으로 작은것, 동일한것, 큰것 순으로 리스트를 더해서 출력한다."
   ]
  },
  {
   "cell_type": "markdown",
   "id": "909d5458",
   "metadata": {},
   "source": [
    "# 탐색"
   ]
  },
  {
   "cell_type": "markdown",
   "id": "d72c7ad2",
   "metadata": {},
   "source": [
    "# 1. 순차 탐색"
   ]
  },
  {
   "cell_type": "code",
   "execution_count": 2,
   "id": "6fe1c41a",
   "metadata": {},
   "outputs": [],
   "source": [
    "def sequential_search(A,key,low,high):\n",
    "    for i in range(low,high+1):\n",
    "        if A[i].key == key :\n",
    "            return i\n",
    "    return None"
   ]
  },
  {
   "cell_type": "markdown",
   "id": "30b4b4fb",
   "metadata": {},
   "source": [
    "# 2. 이진 탐색(순환구조)"
   ]
  },
  {
   "cell_type": "code",
   "execution_count": 8,
   "id": "3302f95a",
   "metadata": {},
   "outputs": [],
   "source": [
    "def binary_search(A,key,low,high):\n",
    "    if (low <= high):\n",
    "        middle = (low + high)// 2\n",
    "        if key == A[middle].key:\n",
    "            return middle\n",
    "        elif (key<A[middle].key):\n",
    "            return binary_search(A,key,low,middle-1)\n",
    "        else:\n",
    "            return binary_search(A,key,middle+1,high)\n",
    "    return None"
   ]
  },
  {
   "cell_type": "markdown",
   "id": "28cfc0c2",
   "metadata": {},
   "source": [
    "# 2. 이진 탐색(반복구조)"
   ]
  },
  {
   "cell_type": "code",
   "execution_count": 9,
   "id": "515d8b43",
   "metadata": {},
   "outputs": [],
   "source": [
    "def binary_search_iter(A,key,low,high):\n",
    "    while (low<=high):\n",
    "        middle = (low+high)//2\n",
    "        if key ==A[middle].key:\n",
    "            return middle\n",
    "        elif (key>A[middle].key):\n",
    "            low =middle + 1\n",
    "        else:\n",
    "            high = middle -1\n",
    "    return None"
   ]
  },
  {
   "cell_type": "markdown",
   "id": "a53141e5",
   "metadata": {},
   "source": [
    "# 3. 보간 탐색(반복구조)"
   ]
  },
  {
   "cell_type": "code",
   "execution_count": 7,
   "id": "470db7ca",
   "metadata": {},
   "outputs": [],
   "source": [
    "def binary_search_iter(A,key,low,high):\n",
    "    while (low<=high):\n",
    "        middle = int(low+(high-low)*(key-A[low].key)/(A[high].key-A[low].key))\n",
    "        if key ==A[middle].key:\n",
    "            return middle\n",
    "        elif (key>A[middle].key):\n",
    "            low =middle + 1\n",
    "        else:\n",
    "            high = middle -1\n",
    "    return None"
   ]
  },
  {
   "cell_type": "markdown",
   "id": "369e8750",
   "metadata": {},
   "source": [
    "## 정렬된 집합"
   ]
  },
  {
   "cell_type": "code",
   "execution_count": 1,
   "id": "0b792ddb",
   "metadata": {},
   "outputs": [],
   "source": [
    "class Set:   # 클래스 집합\n",
    "    def __init__( self ):\n",
    "        self.items = []\n",
    "\n",
    "    def size( self ): \n",
    "        return len(self.items)\n",
    "    def display(self, msg):\n",
    "        print(msg, self.items)\n",
    "\n",
    "    def contains(self, item) : \n",
    "        return item in self.items\n",
    "\n",
    "    def contains(self, item) :\n",
    "        for i in range(len(self.items)):\n",
    "            if self.items[i] == item :\n",
    "                return True\n",
    "        return False\n",
    "\n",
    "    def insert(self, elem) :\n",
    "        if elem in self.items : return\n",
    "        for idx in range(len(self.items)):\n",
    "            if elem < self.items[idx]:\n",
    "                self.items.insert(idx,elem)\n",
    "                return\n",
    "        self.items.append(elem)\n",
    "        \n",
    "    def delete(self, elem) :\n",
    "        if elem in self.items :\n",
    "            self.items.remove(elem)\n",
    "\n",
    "    def union(self,setB): # 합집합 함수\n",
    "        newSet=Set()\n",
    "        a = 0\n",
    "        b = 0\n",
    "        while a <len(self.items) and b < len(setB.items):\n",
    "            valueA = self.items[a]\n",
    "            valueB = setB.items[b]\n",
    "            if valueA < valueB :\n",
    "                newSet.items.append(valueA)\n",
    "                a += 1\n",
    "            elif valueA > valueB :\n",
    "                newSet.items.append(valueB)\n",
    "                b += 1\n",
    "            else:\n",
    "                newSet.items.append(valueA)\n",
    "                a +=1\n",
    "                b +=1\n",
    "        while a < len(self.items):\n",
    "            newSet.items.append(self.items[a])\n",
    "            a += 1\n",
    "        while b < len(setB.items):         \n",
    "            newSet.items.append(setB.items[b])\n",
    "            b += 1\n",
    "        return newSet.items\n",
    "\n",
    "    def intersect(self,setB): # 합집합 함수\n",
    "        newSet=Set()\n",
    "        a = 0\n",
    "        b = 0\n",
    "        while a <len(self.items) and b < len(setB.items):\n",
    "            valueA = self.items[a]\n",
    "            valueB = setB.items[b]\n",
    "            if valueA < valueB :\n",
    "                a += 1\n",
    "            elif valueA > valueB :\n",
    "                b += 1\n",
    "            else:\n",
    "                newSet.items.append(valueA)\n",
    "                a +=1\n",
    "                b +=1\n",
    "        while a < len(self.items):\n",
    "            a += 1\n",
    "        while b < len(setB.items):         \n",
    "            b += 1\n",
    "        return newSet.items\n",
    "\n",
    "    def difference( self, setB ):    \n",
    "        setC = Set()\n",
    "        for elem in self.items:   \n",
    "            if elem not in setB.items:\n",
    "                setC.items.append(elem)\n",
    "        return setC"
   ]
  },
  {
   "cell_type": "markdown",
   "id": "906306b2",
   "metadata": {},
   "source": [
    "## 체이닝을 이용한 해시 맵"
   ]
  },
  {
   "cell_type": "code",
   "execution_count": 6,
   "id": "fc61d074",
   "metadata": {},
   "outputs": [],
   "source": [
    "class Node:\n",
    "    def __init__(self,elem,link=None):\n",
    "        self.data = elem\n",
    "        self.link = link\n",
    "        \n",
    "class Entry:\n",
    "    def __init__(self,key,value):\n",
    "        self.key = key\n",
    "        self.value = value\n",
    "        \n",
    "    def __str__(self):\n",
    "        return str(\"%s:%s\" % (self.key,self.value) )\n",
    "    \n",
    "class HashChainMap:\n",
    "    def __init__(self,M):\n",
    "        self.table=[None]*M\n",
    "        self.M=M\n",
    "    \n",
    "    def hashFn(self,key):\n",
    "        sum = 0\n",
    "        for c in key:\n",
    "            sum = sum + ord(c)\n",
    "        return sum%self.M\n",
    "    \n",
    "    def insert(self,key,value):\n",
    "        idx=self.hashFn(key)\n",
    "        self.table[idx]=Node(Entry(key,value),self.table[idx])\n",
    "        entry = Entry(key,value)\n",
    "        node = Node(entry)\n",
    "       \n",
    "        \n",
    "    def search(self,key):\n",
    "        idx = self.hashFn(key)\n",
    "        node = self.table[idx]\n",
    "        while node is not None:\n",
    "            if node.data.key == key:\n",
    "                return node.data\n",
    "            node = node.link\n",
    "        return None\n",
    "    \n",
    "    def delete(self,key):\n",
    "        idx = self.hashFn(key)\n",
    "        node = self.table[idx]\n",
    "        before = None\n",
    "        while node is not None:\n",
    "            if node.data.key == key:\n",
    "                if before == None:\n",
    "                    self.table[idx] = node.link\n",
    "                else :\n",
    "                    before.link = node.link\n",
    "                return\n",
    "            before = node\n",
    "            node = node.link\n",
    "            \n",
    "    def display(self,msg):\n",
    "        print(msg)\n",
    "        for idx in range (len(self.table)):\n",
    "            node = self.table[idx]s\n",
    "            if node is not None:\n",
    "                print(\"[%2d] ->\"%idx,end='')\n",
    "                while node is not None:\n",
    "                    print(node.data, end='->')\n",
    "                    node = node.link\n",
    "                print()"
   ]
  },
  {
   "cell_type": "code",
   "execution_count": 14,
   "id": "84b117a5",
   "metadata": {},
   "outputs": [
    {
     "name": "stdout",
     "output_type": "stream",
     "text": [
      "나의 단어장: \n",
      "[ 3] ->sequential search:선형 탐색->sequential search:선형 탐색->\n",
      "[ 7] ->binary search:이진탐색->binary search:이진탐색->game:게임->game:게임->data:자료->data:자료->\n",
      "[ 8] ->structure:구조->structure:구조->\n",
      "탐색:game --> game:게임\n",
      "탐색:over --> None\n",
      "탐색:data --> data:자료\n",
      "나의 단어장: \n",
      "[ 3] ->sequential search:선형 탐색->sequential search:선형 탐색->\n",
      "[ 7] ->binary search:이진탐색->binary search:이진탐색->game:게임->data:자료->data:자료->\n",
      "[ 8] ->structure:구조->structure:구조->\n"
     ]
    }
   ],
   "source": [
    "map= HashChainMap(13)\n",
    "map.insert('data','자료')\n",
    "map.insert('structure','구조')\n",
    "map.insert('sequential search','선형 탐색')\n",
    "map.insert('game','게임')\n",
    "map.insert('binary search','이진탐색')\n",
    "map.display(\"나의 단어장: \")\n",
    "print(\"탐색:game -->\",map.search('game'))\n",
    "print(\"탐색:over -->\",map.search('over'))\n",
    "print(\"탐색:data -->\",map.search('data'))\n",
    "\n",
    "map.delete('game')\n",
    "map.display(\"나의 단어장: \")"
   ]
  },
  {
   "cell_type": "markdown",
   "id": "00760081",
   "metadata": {},
   "source": [
    "## 순차 탐색 맵"
   ]
  },
  {
   "cell_type": "code",
   "execution_count": 5,
   "id": "fdee7d85",
   "metadata": {},
   "outputs": [],
   "source": [
    "def sequential_search(A,key,low,high):\n",
    "    for i in range(low,high+1):\n",
    "        if A[i].key == key :\n",
    "            return i\n",
    "    return None\n",
    "\n",
    "class Entry:\n",
    "    def __init__(self,key,value):\n",
    "        self.key = key\n",
    "        self.value = value\n",
    "        \n",
    "    def __str__(self):\n",
    "        return str(\"%s:%s\" % (self.key,self.value) )\n",
    "\n",
    "class SequentialMap:\n",
    "    def __init__(self):\n",
    "        self.table = []\n",
    "        \n",
    "    def size(self):return len(self.table)\n",
    "    def display(self,msg):\n",
    "        print(msg)\n",
    "        for entry in self.table:\n",
    "            print(\"\",entry)\n",
    "    def insert(self,key,value):\n",
    "        self.table.append(Entry(key,value))\n",
    "        \n",
    "    def search(self,key):\n",
    "        pos = sequential_search(self.table,key,0,self.size()-1)\n",
    "        if pos is not None : return self.table[pos]\n",
    "        else: return None\n",
    "    \n",
    "    def delete(self,key):\n",
    "        for i in range(self.size()):\n",
    "            if self.table[i].key==key:\n",
    "                self.table.pop(i)\n",
    "                return"
   ]
  },
  {
   "cell_type": "code",
   "execution_count": 6,
   "id": "ac2811da",
   "metadata": {},
   "outputs": [
    {
     "name": "stdout",
     "output_type": "stream",
     "text": [
      "나의 단어장: \n",
      " data:자료\n",
      " structure:구조\n",
      " sequential search:선형 탐색\n",
      " game:게임\n",
      " binary search:이진탐색\n",
      "탐색:game --> game:게임\n",
      "탐색:over --> None\n",
      "탐색:data --> data:자료\n",
      "나의 단어장: \n",
      " data:자료\n",
      " structure:구조\n",
      " sequential search:선형 탐색\n",
      " binary search:이진탐색\n"
     ]
    }
   ],
   "source": [
    "map= SequentialMap()\n",
    "map.insert('data','자료')\n",
    "map.insert('structure','구조')\n",
    "map.insert('sequential search','선형 탐색')\n",
    "map.insert('game','게임')\n",
    "map.insert('binary search','이진탐색')\n",
    "map.display(\"나의 단어장: \")\n",
    "print(\"탐색:game -->\",map.search('game'))\n",
    "print(\"탐색:over -->\",map.search('over'))\n",
    "print(\"탐색:data -->\",map.search('data'))\n",
    "\n",
    "map.delete('game')\n",
    "map.display(\"나의 단어장: \")"
   ]
  },
  {
   "cell_type": "markdown",
   "id": "d77bf202",
   "metadata": {},
   "source": [
    "# 트리"
   ]
  },
  {
   "cell_type": "code",
   "execution_count": 1,
   "id": "4771cb0a",
   "metadata": {},
   "outputs": [],
   "source": [
    "class TNode:\n",
    "    def __init__ (self, data, left, right):\n",
    "        self.data = data \n",
    "        self.left = left\n",
    "        self.right = right"
   ]
  },
  {
   "cell_type": "markdown",
   "id": "31eb24b0",
   "metadata": {},
   "source": [
    "## 전위 순회"
   ]
  },
  {
   "cell_type": "code",
   "execution_count": null,
   "id": "25e2530e",
   "metadata": {},
   "outputs": [],
   "source": [
    "def preorder(n) :\n",
    "    if n is not None :\n",
    "        print(n.data, end=' ')\n",
    "        preorder(n.left)\n",
    "        preorder(n.right)"
   ]
  },
  {
   "cell_type": "markdown",
   "id": "3b2a27ab",
   "metadata": {},
   "source": [
    "## 중위 순회"
   ]
  },
  {
   "cell_type": "code",
   "execution_count": 3,
   "id": "7ab221f9",
   "metadata": {},
   "outputs": [],
   "source": [
    "def inorder(n) :\n",
    "    if n is not None :\n",
    "        inorder(n.left)\n",
    "        print(n.data, end=' ')\n",
    "        inorder(n.right)"
   ]
  },
  {
   "cell_type": "markdown",
   "id": "9c616e9d",
   "metadata": {},
   "source": [
    "## 후위 순회"
   ]
  },
  {
   "cell_type": "code",
   "execution_count": 5,
   "id": "1474b415",
   "metadata": {},
   "outputs": [],
   "source": [
    "def postorder(n) :\n",
    "    if n is not None :\n",
    "        postorder(n.left)\n",
    "        postorder(n.right)\n",
    "        print(n.data, end=' ')"
   ]
  },
  {
   "cell_type": "markdown",
   "id": "cd7fde55",
   "metadata": {},
   "source": [
    "## 레벨 순회"
   ]
  },
  {
   "cell_type": "code",
   "execution_count": 6,
   "id": "f31a66cc",
   "metadata": {},
   "outputs": [],
   "source": [
    "def levelorder(root) :\n",
    "    queue = CircularQueue()\n",
    "    queue.enqueue(root)\n",
    "    while not queue.isEmpty() :\n",
    "        n = queue.dequeue()\n",
    "        if n is not None :\n",
    "            print(n.data, end=' ')\n",
    "            queue.enqueue(n.left)\n",
    "            queue.enqueue(n.right)"
   ]
  },
  {
   "cell_type": "markdown",
   "id": "bfdd3f1d",
   "metadata": {},
   "source": [
    "## 노드의 개수"
   ]
  },
  {
   "cell_type": "code",
   "execution_count": 7,
   "id": "f26d42f9",
   "metadata": {},
   "outputs": [],
   "source": [
    "def count_node(n) :\n",
    "    if n is None : \n",
    "        return 0\n",
    "    else : \n",
    "        return 1 + count_node(n.left) + count_node(n.right)"
   ]
  },
  {
   "cell_type": "markdown",
   "id": "f039c2e1",
   "metadata": {},
   "source": [
    "## 단말 노드 개수"
   ]
  },
  {
   "cell_type": "code",
   "execution_count": 9,
   "id": "dd639f3b",
   "metadata": {},
   "outputs": [],
   "source": [
    "def count_leaf(n) :\n",
    "    if n is None :\n",
    "        return 0\n",
    "    elif n.left is None and n.right is None :\n",
    "        return 1\n",
    "    else : \n",
    "        return count_leaf(n.left) + count_leaf(n.right)"
   ]
  },
  {
   "cell_type": "markdown",
   "id": "7db50687",
   "metadata": {},
   "source": [
    "## 트리의 높이"
   ]
  },
  {
   "cell_type": "code",
   "execution_count": 11,
   "id": "fba12976",
   "metadata": {},
   "outputs": [],
   "source": [
    "def calc_height(n) :\n",
    "    if n is None : \n",
    "        return 0\n",
    "    hLeft = calc_height(n.left)\n",
    "    hRight = calc_height(n.right)\n",
    "    if (hLeft > hRight) : \n",
    "        return hLeft + 1\n",
    "    else: \n",
    "        return hRight + 1"
   ]
  },
  {
   "cell_type": "markdown",
   "id": "8d53b429",
   "metadata": {},
   "source": [
    "## 모르스 트리"
   ]
  },
  {
   "cell_type": "code",
   "execution_count": 12,
   "id": "4556cb31",
   "metadata": {},
   "outputs": [],
   "source": [
    "def make_morse_tree():\n",
    "    root = TNode( None, None, None )\n",
    "    for tp in table :\n",
    "        code = tp[1]                    \n",
    "        node = root\n",
    "        for c in code :                 \n",
    "            if c == '.' :               \n",
    "                if node.left == None :  \n",
    "                    node.left = TNode (None, None, None)\n",
    "                node = node.left        \n",
    "            elif c == '-' :             \n",
    "                if node.right == None : \n",
    "                    node.right = TNode (None, None, None)\n",
    "                node = node.right     \n",
    "\n",
    "        node.data = tp[0]               \n",
    "    return root\n",
    "\n",
    "\n",
    "def decode(root, code):\n",
    "    node = root\n",
    "    for c in code :                 \n",
    "        if c == '.' : node = node.left \n",
    "        elif c=='-' : node = node.right\n",
    "    return node.data\n",
    "\n",
    "def encode(ch):\n",
    "    idx = ord(ch)-ord('A')\n",
    "    return table[idx][1]"
   ]
  },
  {
   "cell_type": "markdown",
   "id": "73a6118c",
   "metadata": {},
   "source": [
    "## 최대 힙"
   ]
  },
  {
   "cell_type": "code",
   "execution_count": 7,
   "id": "be698710",
   "metadata": {},
   "outputs": [],
   "source": [
    "class MaxHeap :\n",
    "    def __init__ (self) :\n",
    "        self.heap = []\n",
    "        self.heap.append(0)\n",
    "\n",
    "    def size(self) : return len(self.heap) - 1\n",
    "    def isEmpty(self) : return self.size() == 0\n",
    "    def Parent(self, i) : return self.heap[i//2]\n",
    "    def Left(self, i) : return self.heap[i*2]\n",
    "    def Right(self, i) : return self.heap[i*2+1]\n",
    "    def display(self, msg = '힙 트리: ') :\n",
    "        print(msg, self.heap[1:])\n",
    "\n",
    "    def insert(self, n) :\n",
    "        self.heap.append(n)\n",
    "        i = self.size()\n",
    "        while (i != 1 and n > self.Parent(i)):\n",
    "            self.heap[i] = self.Parent(i)\n",
    "            i = i // 2              \n",
    "        self.heap[i] = n\n",
    "\n",
    "    def delete(self) :\n",
    "        parent = 1\n",
    "        child = 2\n",
    "        if not self.isEmpty() :\n",
    "            hroot = self.heap[1]  \n",
    "            last = self.heap[self.size()]\n",
    "            while (child <= self.size()):\n",
    "                if child<self.size() and self.Left(parent)<self.Right(parent):\n",
    "                    child += 1\n",
    "                if last >= self.heap[child] :\n",
    "                    break;\n",
    "                self.heap[parent] = self.heap[child]\n",
    "                parent = child\n",
    "                child *= 2;\n",
    "\n",
    "            self.heap[parent] = last\n",
    "            self.heap.pop(-1)\n",
    "            return hroot"
   ]
  },
  {
   "cell_type": "markdown",
   "id": "7cf2c6d2",
   "metadata": {},
   "source": [
    "## 허프만 코딩 트리"
   ]
  },
  {
   "cell_type": "code",
   "execution_count": 8,
   "id": "ddb60ec7",
   "metadata": {},
   "outputs": [],
   "source": [
    "def make_tree(freq):\n",
    "    heap = MinHeap()\n",
    "    for n in freq:\n",
    "        heap.insert(n)\n",
    "        \n",
    "    for i in range(1,len(freq)):\n",
    "        e1 = heap.delete()\n",
    "        e2 = heap.delete()\n",
    "        heap.insert(e1+e2)\n",
    "        print(\"(%d+%d)\"%(e1,e2))"
   ]
  },
  {
   "cell_type": "markdown",
   "id": "7c5ccdfb",
   "metadata": {},
   "source": [
    "## 이진 탐색 트리"
   ]
  },
  {
   "cell_type": "code",
   "execution_count": null,
   "id": "aaffb17e",
   "metadata": {},
   "outputs": [],
   "source": [
    "class BTSNode:\n",
    "    def __init__(self,key,value):\n",
    "        self.key = key\n",
    "        self.value= value\n",
    "        self.left = None\n",
    "        self.right = None\n",
    "        "
   ]
  },
  {
   "cell_type": "markdown",
   "id": "8016cad8",
   "metadata": {},
   "source": [
    "## 이진탐색트리 탐색연산(순환 함수)"
   ]
  },
  {
   "cell_type": "code",
   "execution_count": null,
   "id": "1f05c662",
   "metadata": {},
   "outputs": [],
   "source": [
    "def search_bst(n,key):\n",
    "    if n == None:\n",
    "        return None\n",
    "    elif key == n.key:\n",
    "        return n\n",
    "    elif key <  n.key:\n",
    "        return search_bst(n.left,key)\n",
    "    else:\n",
    "        return search_bst(n.right,key)"
   ]
  },
  {
   "cell_type": "markdown",
   "id": "6bf33b04",
   "metadata": {},
   "source": [
    "## 이진탐색트리 탐색연산(반복 함수)"
   ]
  },
  {
   "cell_type": "code",
   "execution_count": 10,
   "id": "1abd6ff7",
   "metadata": {},
   "outputs": [],
   "source": [
    "def search_bst_iter(n,key):\n",
    "    while n!=None:\n",
    "        if key == n.key:\n",
    "            return n\n",
    "        elif key<n.key:\n",
    "            n = n.left\n",
    "        else:\n",
    "            n = n.right\n",
    "    return None"
   ]
  },
  {
   "cell_type": "markdown",
   "id": "dffbf0fa",
   "metadata": {},
   "source": [
    "## 이진탐색트리 탐색연산(preorder 사용) : 값을 이용한 탐색"
   ]
  },
  {
   "cell_type": "code",
   "execution_count": 11,
   "id": "a19b8c96",
   "metadata": {},
   "outputs": [],
   "source": [
    "def search_value_bst(n,value):\n",
    "    if n == None: return None\n",
    "    elif value == n.value:\n",
    "        return n\n",
    "    res = search_value_bst(n.left,value)\n",
    "    if res is not None:\n",
    "        return res\n",
    "    else:\n",
    "        return search_value_bst(n.right,value)"
   ]
  },
  {
   "cell_type": "markdown",
   "id": "7c47ec8c",
   "metadata": {},
   "source": [
    "## 최대와 최소 노드의 탐색"
   ]
  },
  {
   "cell_type": "code",
   "execution_count": 12,
   "id": "e1cfaea9",
   "metadata": {},
   "outputs": [],
   "source": [
    "def search_max_bst(n):\n",
    "    while n!= None and n.right != None:\n",
    "        n=n.right\n",
    "    return n\n",
    "\n",
    "def search_min_bst(n):\n",
    "    while n!= None and n.left != None:\n",
    "        n=n.left\n",
    "    return n"
   ]
  },
  {
   "cell_type": "markdown",
   "id": "f34adb16",
   "metadata": {},
   "source": [
    "## 삽입 연산"
   ]
  },
  {
   "cell_type": "code",
   "execution_count": 14,
   "id": "b4b57c9e",
   "metadata": {},
   "outputs": [],
   "source": [
    "def insert_bst(r,n):\n",
    "    if n.key < r.key:\n",
    "        if r.left is None:\n",
    "            r.left = n\n",
    "            return True\n",
    "        else:\n",
    "            return insert_bst(r.left,n)\n",
    "    elif n.key > r.key:\n",
    "        if r.right is None:\n",
    "            r.right = n\n",
    "            return True\n",
    "        else:\n",
    "            return insert_bst(r.right,n)\n",
    "    else:\n",
    "        return False"
   ]
  },
  {
   "cell_type": "markdown",
   "id": "cac4fa9f",
   "metadata": {},
   "source": [
    "## 삭제 연산"
   ]
  },
  {
   "cell_type": "code",
   "execution_count": null,
   "id": "849844b5",
   "metadata": {},
   "outputs": [],
   "source": [
    "def delete_bst_case1(parent,node,root):\n",
    "    if parent is None:\n",
    "        root = None\n",
    "    else:\n",
    "        if parent.left == node:\n",
    "            parent.left = None\n",
    "        else:\n",
    "            parent.right = None\n",
    "            \n",
    "    return root"
   ]
  },
  {
   "cell_type": "code",
   "execution_count": null,
   "id": "c340a667",
   "metadata": {},
   "outputs": [],
   "source": [
    "def delete_bst_case2(parent,node,root):\n",
    "    if node.left is not None:\n",
    "        child = node.left\n",
    "    else:\n",
    "        child = node.right\n",
    "        \n",
    "    if node == root:\n",
    "        root = child\n",
    "    else:\n",
    "        if node is parent.left:\n",
    "            parent.left = child\n",
    "        else:\n",
    "            parent.right = child\n",
    "            \n",
    "    return root"
   ]
  },
  {
   "cell_type": "code",
   "execution_count": null,
   "id": "e12eeeda",
   "metadata": {},
   "outputs": [],
   "source": [
    "def delete_bst_case3(parent,node,root):\n",
    "    succp = node\n",
    "    succ = node.right\n",
    "    while(succ.left !=None):\n",
    "        succp = succ\n",
    "        succ = succ.left\n",
    "        \n",
    "    if (succp.left == succ):\n",
    "        succp.left = succ.right\n",
    "    else:\n",
    "        succp.right = succ.right\n",
    "        \n",
    "    node.key = succ.key\n",
    "    node.value = succ.value\n",
    "    \n",
    "    return root"
   ]
  },
  {
   "cell_type": "code",
   "execution_count": null,
   "id": "55b0bba9",
   "metadata": {},
   "outputs": [],
   "source": [
    "def delete_bst(root,key):\n",
    "    if root == None: return None\n",
    "    \n",
    "    parent = None\n",
    "    node = root\n",
    "    while node != None and node.key != key:\n",
    "        parent = node\n",
    "        if key < node.key : node = node.left\n",
    "        else: node = node.right;\n",
    "            \n",
    "    if node == None: return None\n",
    "    if node.left == None and node.right == None:\n",
    "        root = delete_bst_case1(parent,node,root)\n",
    "    elif node.left == None or node.right == None:\n",
    "        root = delete_bst_case2(parent,node,root)\n",
    "    else:\n",
    "        root = delete_bst_case3(parent,node,root)\n",
    "    return root"
   ]
  },
  {
   "cell_type": "markdown",
   "id": "e91d098c",
   "metadata": {},
   "source": [
    "## 이진탐색트리를 이용한 맵"
   ]
  },
  {
   "cell_type": "code",
   "execution_count": 15,
   "id": "880e1a14",
   "metadata": {},
   "outputs": [],
   "source": [
    "class BSTMap():\n",
    "    def __init__(self):\n",
    "        self.root = None\n",
    "    def isEmpty(self): return self.root == None\n",
    "    def clear(self): self.root=None\n",
    "    def size(self): return count_node(self.root)\n",
    "    def search(self,key): return search_bst(self.root,key)\n",
    "    def searchValue(self,key): return search_value_bst(self.root,key)\n",
    "    def findMax(self): return search_max_bst(self.root)\n",
    "    def findMin(self): return search_min_bst(self.root)\n",
    "    \n",
    "    def insert(self,key,value=None):\n",
    "        n = BSTNode(key,value)\n",
    "        if self.isEmpty():\n",
    "            self.root = n\n",
    "        else:\n",
    "            insert_bst(self.root,n)\n",
    "            \n",
    "    def delete(self,key):\n",
    "        self.root = delete_bst(self.root,key)\n",
    "        \n",
    "    def display(self,msg='BSTMap:'):\n",
    "        print(msg,end='')\n",
    "        inorder(self,root)\n",
    "        print()"
   ]
  },
  {
   "cell_type": "markdown",
   "id": "f679524c",
   "metadata": {},
   "source": [
    "## AVL 트리"
   ]
  },
  {
   "cell_type": "markdown",
   "id": "bc746a04",
   "metadata": {},
   "source": [
    "## LL회전"
   ]
  },
  {
   "cell_type": "code",
   "execution_count": null,
   "id": "6758652e",
   "metadata": {},
   "outputs": [],
   "source": [
    "def rotateLL(A):\n",
    "    B = A.left\n",
    "    A.left = B.right\n",
    "    B.right = A\n",
    "    return B"
   ]
  },
  {
   "cell_type": "markdown",
   "id": "ee00173d",
   "metadata": {},
   "source": [
    "## RR회전"
   ]
  },
  {
   "cell_type": "code",
   "execution_count": null,
   "id": "45699290",
   "metadata": {},
   "outputs": [],
   "source": [
    "def rotateRR(A):\n",
    "    B = A.right\n",
    "    A.right = B.left\n",
    "    B.left = A\n",
    "    return B"
   ]
  },
  {
   "cell_type": "markdown",
   "id": "6e726886",
   "metadata": {},
   "source": [
    "## RL회전"
   ]
  },
  {
   "cell_type": "code",
   "execution_count": null,
   "id": "7d0f094a",
   "metadata": {},
   "outputs": [],
   "source": [
    "def rotateRL(A):\n",
    "    B = A.right\n",
    "    A.right = rotateLL(B)\n",
    "    return rotateRR(A)"
   ]
  },
  {
   "cell_type": "markdown",
   "id": "f5e324c0",
   "metadata": {},
   "source": [
    "## LR회전"
   ]
  },
  {
   "cell_type": "code",
   "execution_count": null,
   "id": "f5a810d3",
   "metadata": {},
   "outputs": [],
   "source": [
    "def rotateRL(A):\n",
    "    B = A.left\n",
    "    A.left = rotateRR(B)\n",
    "    return rotateLL(A)"
   ]
  },
  {
   "cell_type": "markdown",
   "id": "6c849715",
   "metadata": {},
   "source": [
    "## 재균형 함수"
   ]
  },
  {
   "cell_type": "code",
   "execution_count": 16,
   "id": "7e7f59ef",
   "metadata": {},
   "outputs": [],
   "source": [
    "def reBalance(parent):\n",
    "    hDiff = calc_height_diff(parent)\n",
    "    \n",
    "    if hDiff > 1 :\n",
    "        if calc_height__diff(parent.left) > 0:\n",
    "            parent = rotateLL(parent)\n",
    "        else:\n",
    "            parent = rotateLR(parent)\n",
    "    elif hDiff < -1 :\n",
    "        if calc_height__diff(parent.right) < 0:\n",
    "            parent = rotateRR(parent)\n",
    "        else:\n",
    "            parent = rotateRL(parent)\n",
    "    return parent\n"
   ]
  },
  {
   "cell_type": "markdown",
   "id": "fe3e10a6",
   "metadata": {},
   "source": [
    "## AVL 트리의 삽입함수"
   ]
  },
  {
   "cell_type": "code",
   "execution_count": 17,
   "id": "63127588",
   "metadata": {},
   "outputs": [],
   "source": [
    "def insert_avl(parent,node) :\n",
    "    if node.key < parent.key :\n",
    "        if parent.left != None :\n",
    "            parent.left = insert_avl(parent.left,node)\n",
    "        else:\n",
    "            parent.left = node\n",
    "        return reBalance(parent)\n",
    "    \n",
    "    elif node.key > parent.key :\n",
    "        if parent.right != None :\n",
    "            parent.right = insert_avl(parent.right,node)\n",
    "        else:\n",
    "            parent.right = node\n",
    "        return reBalance(parent)\n",
    "    else:\n",
    "        print(\"중복된 키 에러\")"
   ]
  },
  {
   "cell_type": "code",
   "execution_count": null,
   "id": "43272ba2",
   "metadata": {},
   "outputs": [],
   "source": [
    "from BSTMap import*\n",
    "class AVLMap(BSTMap):\n",
    "    def __init__(self):\n",
    "        super().__init__()\n",
    "        \n",
    "    def insert(self,key,value=None):\n",
    "        n = BSTNode(key,value)\n",
    "        if self.isEmpty():\n",
    "            self.root = n\n",
    "        else:\n",
    "            self.root = insert_avl(self.root,n)\n",
    "            \n",
    "    def display(self,msg = \"AVLMap:\")\n",
    "        print(msg,end='')\n",
    "        levelorder(self.root)\n",
    "        print()"
   ]
  },
  {
   "cell_type": "code",
   "execution_count": null,
   "id": "a8399450",
   "metadata": {},
   "outputs": [],
   "source": [
    "node = [7,8,9,2,1,5,3,6,4]\n",
    "map = AVLMap()\n",
    "\n",
    "for i in node:\n",
    "    map.insert(i)\n",
    "    map.display(\"AVL(%d):\"%i)\n",
    "    \n",
    "print(\"노드의 개수 = %d\"% count_node(map.root))\n",
    "print(\"단말의 개수 = %d\"% count_leaf(map.root))\n",
    "print(\"노드의 개수 = %d\"% count_height(map.root))"
   ]
  },
  {
   "cell_type": "code",
   "execution_count": null,
   "id": "acdc52f2",
   "metadata": {},
   "outputs": [],
   "source": [
    "mygraph={\"A\":{\"B\",\"C\"},\n",
    "        \"B\":{\"A\",\"D\"},\n",
    "        \"C\":{\"A\",\"D\",\"E\"},\n",
    "        \"D\":{\"B\",\"C\",\"F\"},\n",
    "        \"E\":{\"C\",\"G\",\"H\"},\n",
    "        \"F\":{\"D\"},\n",
    "        \"G\":{\"E\",\"H\"},\n",
    "        \"H\":{\"E\",\"G\"}}"
   ]
  },
  {
   "cell_type": "markdown",
   "id": "88ab0cfe",
   "metadata": {},
   "source": [
    "# 깊이 우선 탐색"
   ]
  },
  {
   "cell_type": "code",
   "execution_count": 1,
   "id": "d9f1e37b",
   "metadata": {},
   "outputs": [],
   "source": [
    "def dfs(graph,start,visited = set()):\n",
    "    if start not in visited:\n",
    "        visited.add(start)\n",
    "        print(start,end='')\n",
    "        nbr=graph[start] - visited\n",
    "        for v in nbr:\n",
    "            dfs(graph,v,visited)"
   ]
  },
  {
   "cell_type": "markdown",
   "id": "92a925a6",
   "metadata": {},
   "source": [
    "# 넓이 우선 탐색\n"
   ]
  },
  {
   "cell_type": "code",
   "execution_count": 2,
   "id": "7686ce45",
   "metadata": {},
   "outputs": [],
   "source": [
    "import collections as cols\n",
    "def bfs(graph,start):\n",
    "    visited = set([start])\n",
    "    queue = collections.deque([start])\n",
    "    while queue:\n",
    "        vertex = queue.popleft()\n",
    "        print(vertex,end='')\n",
    "        nbr = graph[vertex] - visited\n",
    "        for v in nbr:\n",
    "            visited.add(v)\n",
    "            queue.qppend(v)            "
   ]
  },
  {
   "cell_type": "markdown",
   "id": "482d3e8a",
   "metadata": {},
   "source": [
    "## 연결 성분 검사"
   ]
  },
  {
   "cell_type": "code",
   "execution_count": null,
   "id": "ec8604d9",
   "metadata": {},
   "outputs": [],
   "source": [
    "def find_connected_component(graph):\n",
    "    visited = set()\n",
    "    colorList = []\n",
    "    \n",
    "    for vtx in graph:\n",
    "        if vtx not in visited:\n",
    "            color = dfs_cc(graph,[],vtx,visited)\n",
    "            colorList.append(color)\n",
    "            \n",
    "    print(\"그래프 연결성분 개수 = %d\" %len(colorList))\n",
    "    print(colorList)"
   ]
  },
  {
   "cell_type": "markdown",
   "id": "434e2a9b",
   "metadata": {},
   "source": [
    "## 깊이 우선 탐색"
   ]
  },
  {
   "cell_type": "code",
   "execution_count": null,
   "id": "7354a515",
   "metadata": {},
   "outputs": [],
   "source": [
    "def dfs_cc(graph,color,vertex,visited):\n",
    "    if vertex not in visited:\n",
    "        visitied.add(vertex)\n",
    "        color.append(vertex)\n",
    "        nbr= graph[vertex] - visited\n",
    "        for v in nbr:\n",
    "            dfs_cc(graph,color,v,visited)\n",
    "    return color"
   ]
  },
  {
   "cell_type": "markdown",
   "id": "5368201f",
   "metadata": {},
   "source": [
    "## 신장트리"
   ]
  },
  {
   "cell_type": "code",
   "execution_count": null,
   "id": "7f8c0a8f",
   "metadata": {},
   "outputs": [],
   "source": [
    "def bfsST(graph,start):\n",
    "    visited = set[(start)]\n",
    "    queue = collections.deque[(start)]\n",
    "    while queue:\n",
    "        v = queue.popleft()\n",
    "        nbr = graph[v] - visited\n",
    "        for u in nbr:\n",
    "            print(\"(\",v,\",\",u,\")\",end=\"\")\n",
    "            visited.add(u)\n",
    "            queue.append(u)"
   ]
  }
 ],
 "metadata": {
  "kernelspec": {
   "display_name": "Python 3 (ipykernel)",
   "language": "python",
   "name": "python3"
  },
  "language_info": {
   "codemirror_mode": {
    "name": "ipython",
    "version": 3
   },
   "file_extension": ".py",
   "mimetype": "text/x-python",
   "name": "python",
   "nbconvert_exporter": "python",
   "pygments_lexer": "ipython3",
   "version": "3.9.13"
  }
 },
 "nbformat": 4,
 "nbformat_minor": 5
}
