{
 "cells": [
  {
   "cell_type": "code",
   "execution_count": 1,
   "id": "ceaa583c",
   "metadata": {},
   "outputs": [],
   "source": [
    "graph = dict()\n",
    "\n",
    "graph['1'] = ['2','3','4']\n",
    "graph['2'] = ['1','5','6']\n",
    "graph['3'] = ['1']\n",
    "graph['4'] = ['1','7','8']\n",
    "graph['5'] = ['2','9','10']\n",
    "graph['6'] = ['2','10']\n",
    "graph['7'] = ['4','11','12']\n",
    "graph['8'] = ['4']\n",
    "graph['9'] = ['5']\n",
    "graph['10'] = ['5','6']\n",
    "graph['11'] = ['7']\n",
    "graph['12'] = ['7']"
   ]
  },
  {
   "cell_type": "code",
   "execution_count": 2,
   "id": "4e4bbda5",
   "metadata": {},
   "outputs": [],
   "source": [
    "#스택으로 완벽히 구현하지는 않았지만 LIFO특성을 유의해서 코드를 구현하였다.\n",
    "def DFS(graph, start_node):\n",
    "    stack, path = [],[] # 스택과 경로를 리스트로 만들어 준다.\n",
    "    stack.append(start_node) # 스택에 시작 노드를 넣어 준다.\n",
    "    \n",
    "    while stack: # 스택이 비워질때 까지 계속 실행한다.\n",
    "        node = stack.pop() # 경로에서 맨 마지막 노드를 꺼내고\n",
    "        \n",
    "        if node not in path: #  만약 그 노드가 경로에 없다면\n",
    "            path.append(node) # 경로에 그 노드를 추가한다.\n",
    "            stack.extend(graph[node]) # 그 노드와 인접해 있는 노드(들)도 스택에 넣어준다.(리스트 째로 넣기에 append 대신 extend를 사용했다.)\n",
    "    \n",
    "    return print(' -> '.join(map(str,path))) # 마지막으로 경로를 리턴해 준다."
   ]
  },
  {
   "cell_type": "code",
   "execution_count": 4,
   "id": "ce32b1a3",
   "metadata": {},
   "outputs": [
    {
     "name": "stdout",
     "output_type": "stream",
     "text": [
      "1 -> 4 -> 8 -> 7 -> 12 -> 11 -> 3 -> 2 -> 6 -> 10 -> 5 -> 9\n"
     ]
    }
   ],
   "source": [
    "DFS(graph,'1')"
   ]
  },
  {
   "cell_type": "code",
   "execution_count": null,
   "id": "8731e88e",
   "metadata": {},
   "outputs": [],
   "source": []
  }
 ],
 "metadata": {
  "kernelspec": {
   "display_name": "Python 3 (ipykernel)",
   "language": "python",
   "name": "python3"
  },
  "language_info": {
   "codemirror_mode": {
    "name": "ipython",
    "version": 3
   },
   "file_extension": ".py",
   "mimetype": "text/x-python",
   "name": "python",
   "nbconvert_exporter": "python",
   "pygments_lexer": "ipython3",
   "version": "3.9.13"
  }
 },
 "nbformat": 4,
 "nbformat_minor": 5
}
