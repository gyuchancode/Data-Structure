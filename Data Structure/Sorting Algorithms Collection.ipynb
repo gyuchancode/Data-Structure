{
 "cells": [
  {
   "cell_type": "markdown",
   "id": "7af39221",
   "metadata": {},
   "source": [
    "##  1.선택정렬"
   ]
  },
  {
   "cell_type": "code",
   "execution_count": 10,
   "id": "f7b83fff",
   "metadata": {},
   "outputs": [],
   "source": [
    "class Node:\n",
    "    def __init__(self,elem,link=None):\n",
    "        self.data = elem\n",
    "        self.link = link"
   ]
  },
  {
   "cell_type": "code",
   "execution_count": 11,
   "id": "cb77e62a",
   "metadata": {},
   "outputs": [],
   "source": [
    "class LinkedList:\n",
    "    def __init__(self):\n",
    "        self.head = None\n",
    "        \n",
    "    def isEmpty(self): return self.head == None\n",
    "    def clear(self): self.head = None\n",
    "    def size(self):\n",
    "        node = self.head\n",
    "        count = 0\n",
    "        while not node == None:\n",
    "            node = node.link\n",
    "            count += 1\n",
    "        return count\n",
    "    def display(self,msg):\n",
    "        print('단순연결리스트로 구현한 리스트',msg,self.head)\n",
    "    \n",
    "    def getNode(self,pos):\n",
    "        if pos < 0 : return None\n",
    "        node = self.head;\n",
    "        while pos > 0 and node != None:\n",
    "            node = node.link\n",
    "            pos -= 1\n",
    "        return node\n",
    "    \n",
    "    def getEntry(self,pos):\n",
    "        node = self.getNode(pos)\n",
    "        if node == None : return None\n",
    "        else: return node.data\n",
    "        \n",
    "    def insert(self,pos,elem):\n",
    "        before = self.getNode(pos-1)\n",
    "        if before == None :\n",
    "            self.head = Node(elem,self.head)\n",
    "        else:\n",
    "            node = Node(elem,before.link)\n",
    "            before.link = node\n",
    "            \n",
    "    def delete(self,pos):\n",
    "        before = self.getNode(pos-1)\n",
    "        if before == None:\n",
    "            if self.head is not None:\n",
    "                self.head = self.head.link\n",
    "        elif before.link != None:\n",
    "            before.link = before.link.link"
   ]
  },
  {
   "cell_type": "code",
   "execution_count": 5,
   "id": "d329448f",
   "metadata": {},
   "outputs": [],
   "source": [
    "def selection_sort(A):\n",
    "    n = len(A) # A의 크기를 구하고\n",
    "    for i in range(n-1): # i를 n-1번까지 반복\n",
    "        least= i; #최소 값을 i라 가정 하면\n",
    "        for j in range(i+1,n):  # j는 i+!부터 n-1 까지 반복\n",
    "            if (A[j]<A[least]): # 만약 A의 j번째 인덱스가 A의 최소 값보다 작다면 \n",
    "                least = j # 최소 값은 j가 된다.\n",
    "        A[i],A[least]=A[least],A[i] # 서로 자리를 교환\n",
    "        printStep(A,i+1); "
   ]
  },
  {
   "cell_type": "markdown",
   "id": "32745141",
   "metadata": {},
   "source": [
    "## 2. 삽입정렬"
   ]
  },
  {
   "cell_type": "code",
   "execution_count": 3,
   "id": "9b8573a5",
   "metadata": {},
   "outputs": [],
   "source": [
    "def insertion_sort(A):\n",
    "    n = len(A)\n",
    "    for i in range(1,n):\n",
    "        key = A[i]\n",
    "        j = i-1\n",
    "        while j>=0 and A[j]>key:\n",
    "            A[j+1] = A[j]\n",
    "            j -= 1\n",
    "        A[j+1] = key\n",
    "        printStep(A,i)"
   ]
  },
  {
   "cell_type": "markdown",
   "id": "64326d2d",
   "metadata": {},
   "source": [
    "## 3. 버블정렬"
   ]
  },
  {
   "cell_type": "code",
   "execution_count": null,
   "id": "38b92ff6",
   "metadata": {},
   "outputs": [],
   "source": [
    "def bublle_sort(A) :\n",
    "    n = len(A) # A의 크기를 n이고\n",
    "    for i in range(n-1,0,-1): #i를 n-1, 0까지 -1 반복한다.\n",
    "        bChanged = False  #bChanged 에는 False를 넣어주고\n",
    "        for j in range (i): #j가 i 번 반복시켜준다.\n",
    "            if (A[j]>A[j+1]): # 만약 A[j]가 A[j+1]보다 크다면 \n",
    "                A[j],A[j+1] = A[j+1],A[j] # 서로를 바꿔주고\n",
    "                bChanged = True # bCanged = true로 바꿔준다\n",
    "    \n",
    "        if not bChanged: break; # 만약 바꿀 것이 없다면 반복을 종료한다.\n",
    "        printStep(A,n -i); # 하는 과정을 출력한다."
   ]
  },
  {
   "cell_type": "markdown",
   "id": "b13ede16",
   "metadata": {},
   "source": [
    "## 4. 퀵소트"
   ]
  },
  {
   "cell_type": "code",
   "execution_count": null,
   "id": "02de5de8",
   "metadata": {},
   "outputs": [],
   "source": [
    "def quick_sort(A):\n",
    "    if len(A) <= 1: # 범위가 1보다 작을 경우에는 \n",
    "        return A # 정렬 할 필요 없이 바로 리턴\n",
    "    pivot = A[len(A) // 2] # 기준 값을 노드의 중앙의 인덱스 값으로 잡고\n",
    "    lesser_A, equal_A, greater_A= [], [], [] # 기준 보다 큰,작은,동일한 리스트를 3개 만든다.\n",
    "    for num in A: # A에 있는 원소들 중에서\n",
    "        if num < pivot: # 만약 원소들 중 기준 값 보다 작다면\n",
    "            lesser_A.append(num) # 작은 리스트에 넣어주고\n",
    "        elif num > pivot: # 반대로 크다면\n",
    "            greater_A.append(num) # 큰 리스트에 넣어주고\n",
    "        else:\n",
    "            equal_A.append(num) # 그렇지 않으면 같은 리스트에 넣어준다.\n",
    "    return quick_sort(lesser_A) + equal_A + quick_sort(greater_A) # 마지막으로 작은것, 동일한것, 큰것 순으로 리스트를 더해서 출력한다."
   ]
  }
 ],
 "metadata": {
  "kernelspec": {
   "display_name": "Python 3 (ipykernel)",
   "language": "python",
   "name": "python3"
  },
  "language_info": {
   "codemirror_mode": {
    "name": "ipython",
    "version": 3
   },
   "file_extension": ".py",
   "mimetype": "text/x-python",
   "name": "python",
   "nbconvert_exporter": "python",
   "pygments_lexer": "ipython3",
   "version": "3.9.13"
  }
 },
 "nbformat": 4,
 "nbformat_minor": 5
}
