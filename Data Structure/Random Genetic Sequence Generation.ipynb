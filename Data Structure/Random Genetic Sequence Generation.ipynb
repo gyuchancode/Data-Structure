{
 "cells": [
  {
   "cell_type": "code",
   "execution_count": 59,
   "id": "89c667aa",
   "metadata": {},
   "outputs": [],
   "source": [
    "def Generic_create(K,N,L):\n",
    "    import random\n",
    "    A=[]\n",
    "    for i in range(N):\n",
    "        B=[]\n",
    "        for j in range(L):\n",
    "            b = random.randint(1,K)\n",
    "            B.append(b)\n",
    "        while B in A:\n",
    "            \n",
    "        A.append(B)\n",
    "    \n",
    "  \n",
    "        \n",
    "    return print(A)"
   ]
  },
  {
   "cell_type": "code",
   "execution_count": 60,
   "id": "8c464e0c",
   "metadata": {
    "scrolled": true
   },
   "outputs": [
    {
     "name": "stdout",
     "output_type": "stream",
     "text": [
      "[[4, 3, 2], [4, 7, 5], [1, 6, 7], [6, 2, 4]]\n"
     ]
    }
   ],
   "source": [
    "a=Generic_create(7,4,3)"
   ]
  }
 ],
 "metadata": {
  "kernelspec": {
   "display_name": "Python 3 (ipykernel)",
   "language": "python",
   "name": "python3"
  },
  "language_info": {
   "codemirror_mode": {
    "name": "ipython",
    "version": 3
   },
   "file_extension": ".py",
   "mimetype": "text/x-python",
   "name": "python",
   "nbconvert_exporter": "python",
   "pygments_lexer": "ipython3",
   "version": "3.9.13"
  }
 },
 "nbformat": 4,
 "nbformat_minor": 5
}
