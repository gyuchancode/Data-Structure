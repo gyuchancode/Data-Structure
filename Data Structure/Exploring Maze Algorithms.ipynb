{
 "cells": [
  {
   "cell_type": "code",
   "execution_count": 5,
   "id": "fe8cc3a2",
   "metadata": {},
   "outputs": [],
   "source": [
    "map = [['1','1','1','1','1','1'],\n",
    "       ['e','0','0','0','0','1'],\n",
    "       ['1','0','1','0','1','1'],\n",
    "       ['1','1','1','0','0','x'],\n",
    "       ['1','1','1','0','1','1'],\n",
    "       ['1','1','1','1','1','1']]\n",
    "MAZE_SIZE = 6"
   ]
  },
  {
   "cell_type": "code",
   "execution_count": 5,
   "id": "35944c8f",
   "metadata": {},
   "outputs": [],
   "source": [
    "# 트리 형태의 문제를 리스트로 바꾸면 다음과 같다.\n",
    "map = [['0','1','1','1','0','0','0','0','0','0','0','0'],\n",
    "       ['1','0','0','0','1','1','0','0','0','0','0','0'],\n",
    "       ['1','0','0','0','0','0','0','0','0','0','0','0'],\n",
    "       ['1','0','0','0','0','0','1','1','0','0','0','0'],\n",
    "       ['0','1','0','0','0','0','0','0','1','1','0','0'],\n",
    "       ['0','1','0','0','0','0','0','0','0','1','0','0'],\n",
    "       ['0','0','0','1','0','0','0','0','0','0','1','1'],\n",
    "       ['0','0','0','1','0','0','0','0','0','0','0','0'],\n",
    "       ['0','0','0','0','1','0','0','0','0','0','0','0'],\n",
    "       ['0','0','0','0','1','1','0','0','0','0','0','0'],\n",
    "       ['0','0','0','0','0','0','1','0','0','0','0','0'],\n",
    "       ['0','0','0','0','0','0','1','0','0','0','0','0']]\n",
    "\n",
    "MAZE_SIZE = 12"
   ]
  },
  {
   "cell_type": "code",
   "execution_count": 6,
   "id": "5807ce13",
   "metadata": {},
   "outputs": [],
   "source": [
    "#스택으로 완벽히 구현하지는 않았지만 LIFO특성을 유의해서 코드를 구현하였다.\n",
    "def DFS(graph, start_node):\n",
    "    stack, path = [],[] # 스택과 경로를 리스트로 만들어 준다.\n",
    "    stack.append(start_node) # 스택에 시작 노드를 넣어 준다.\n",
    "    \n",
    "    while stack: # 스택이 비워질때 까지 계속 실행한다.\n",
    "        node = stack.pop() # 경로에서 맨 마지막 노드를 꺼내고\n",
    "        \n",
    "        if node not in path: #  만약 그 노드가 경로에 없다면\n",
    "            path.append(node) # 경로에 그 노드를 추가한다.\n",
    "            stack.extend(graph[node]) # 그 노드와 인접해 있는 노드(들)도 스택에 넣어준다.(리스트 째로 넣기에 append 대신 extend를 사용했다.)\n",
    "    \n",
    "    return print(' -> '.join(map(str,path))) # 마지막으로 경로를 리턴해 준다."
   ]
  },
  {
   "cell_type": "code",
   "execution_count": 1,
   "id": "4a33460c",
   "metadata": {},
   "outputs": [],
   "source": [
    "map = [['1','1','1','1','1','1','1','1','1','1','1','1','1'],\n",
    "       ['1','0','0','0','0','1','1','1','1','1','1','1','1'],\n",
    "       ['1','0','0','1','1','0','0','1','1','1','1','1','1'],\n",
    "       ['1','0','1','0','1','1','1','1','1','1','1','1','1'],\n",
    "       ['1','0','1','1','0','1','1','0','0','1','1','1','1'],\n",
    "       ['1','1','0','1','1','0','1','1','1','0','0','1','1'],\n",
    "       ['1','1','0','1','1','1','0','1','1','1','0','1','1'],\n",
    "       ['1','1','1','1','0','1','1','0','1','1','1','0','0'],\n",
    "       ['1','1','1','1','0','1','1','1','0','1','1','1','1'],\n",
    "       ['1','1','1','1','1','0','1','1','1','0','1','1','1'],\n",
    "       ['1','1','1','1','1','0','0','1','1','1','0','1','1'],\n",
    "       ['1','1','1','1','1','1','1','0','1','1','1','0','1'],\n",
    "       ['1','1','1','1','1','1','1','0','1','1','1','1','0']]\n",
    "MAZE_SIZE = 13 "
   ]
  },
  {
   "cell_type": "code",
   "execution_count": 6,
   "id": "4064420b",
   "metadata": {},
   "outputs": [],
   "source": [
    "class Stack:\n",
    "    def __init__(self):\n",
    "        self.top= []\n",
    "    \n",
    "    def isEmpty(self): return len(self.top) == 0\n",
    "    def size(self): return len(self.top)\n",
    "    def clear(self): self.top = []\n",
    "        \n",
    "    def push(self,item):\n",
    "        self.top.append(item)\n",
    "        \n",
    "    def pop(self):\n",
    "        if not self.isEmpty():\n",
    "            return self.top.pop(-1)\n",
    "    \n",
    "    def peek(self):\n",
    "        if not self.isEmpty():\n",
    "            return self.top[-1]"
   ]
  },
  {
   "cell_type": "code",
   "execution_count": 7,
   "id": "565b3cee",
   "metadata": {},
   "outputs": [],
   "source": [
    "def isValidpos(x,y):\n",
    "    if x < 0 or y < 0 or x >= MAZE_SIZE or y >= MAZE_SIZE :\n",
    "        return False\n",
    "    else:\n",
    "        return map[y][x] == '0'\n",
    "    \n",
    "def DFS():\n",
    "    stack = Stack()\n",
    "    stack.push( (1,1) )\n",
    "    print(' DFS: ')\n",
    "    \n",
    "    while not stack.isEmpty():\n",
    "        here = stack.pop()\n",
    "        print(here, end='->')\n",
    "        (x,y) = here\n",
    "        map[y][x]='.'\n",
    "        if isValidpos(x,y-1): stack.push((x,y-1)) #상\n",
    "        if isValidpos(x,y+1): stack.push((x,y+1)) #하\n",
    "        if isValidpos(x-1,y): stack.push((x-1,y)) #좌\n",
    "        if isValidpos(x+1,y): stack.push((x+1,y)) #우\n",
    "        print('현재 스택: ', stack.top)"
   ]
  },
  {
   "cell_type": "code",
   "execution_count": 8,
   "id": "9dc6e42e",
   "metadata": {},
   "outputs": [],
   "source": [
    "def BFS():\n",
    "    que = CircularQueue() # 큐를 선형큐로 구현을 하고\n",
    "    que.enqueue( (0,1) ) # 큐에 다가 시작노드를 입력\n",
    "    print(' BFS: ')\n",
    "    \n",
    "    while not que.isEmpty(): # 큐가 비어지지 않았다면 계속 실행 == 큐가 비어졌다면 종료\n",
    "        here = que.dequeue()  # 큐에 들어있는 첫 노드를 빼서 here에 저장\n",
    "        print(here, end='->') #  here-> 출력\n",
    "        (x,y) = here # x,y에 here 값을 대입\n",
    "        if (map[y][x] == 'x'): # 만약 y,x 자리가 x라면 \n",
    "            return True # True를 리턴\n",
    "        else: # 그렇지 않다면\n",
    "            map[y][x]='.' # y,x 자리에 .을 넣는다(지나온 구역이라는 뜻)\n",
    "            if isValidpos(x-1,y): que.enqueue((x-1,y)) #좌\n",
    "            if isValidpos(x+1,y): que.enqueue((x+1,y)) #우\n",
    "            if isValidpos(x,y-1): que.enqueue((x,y-1)) #상\n",
    "            if isValidpos(x,y+1): que.enqueue((x,y+1)) #하\n",
    "    return False # False를 리턴"
   ]
  },
  {
   "cell_type": "code",
   "execution_count": 7,
   "id": "78d800de",
   "metadata": {},
   "outputs": [
    {
     "ename": "TypeError",
     "evalue": "list indices must be integers or slices, not str",
     "output_type": "error",
     "traceback": [
      "\u001b[1;31m---------------------------------------------------------------------------\u001b[0m",
      "\u001b[1;31mTypeError\u001b[0m                                 Traceback (most recent call last)",
      "\u001b[1;32m~\\AppData\\Local\\Temp\\ipykernel_17024\\2764067747.py\u001b[0m in \u001b[0;36m<module>\u001b[1;34m\u001b[0m\n\u001b[1;32m----> 1\u001b[1;33m \u001b[0mresult\u001b[0m\u001b[1;33m=\u001b[0m\u001b[0mDFS\u001b[0m\u001b[1;33m(\u001b[0m\u001b[0mmap\u001b[0m\u001b[1;33m,\u001b[0m\u001b[0mmap\u001b[0m\u001b[1;33m[\u001b[0m\u001b[1;36m1\u001b[0m\u001b[1;33m]\u001b[0m\u001b[1;33m[\u001b[0m\u001b[1;36m1\u001b[0m\u001b[1;33m]\u001b[0m\u001b[1;33m)\u001b[0m\u001b[1;33m\u001b[0m\u001b[1;33m\u001b[0m\u001b[0m\n\u001b[0m",
      "\u001b[1;32m~\\AppData\\Local\\Temp\\ipykernel_17024\\547309071.py\u001b[0m in \u001b[0;36mDFS\u001b[1;34m(graph, start_node)\u001b[0m\n\u001b[0;32m      9\u001b[0m         \u001b[1;32mif\u001b[0m \u001b[0mnode\u001b[0m \u001b[1;32mnot\u001b[0m \u001b[1;32min\u001b[0m \u001b[0mpath\u001b[0m\u001b[1;33m:\u001b[0m \u001b[1;31m#  만약 그 노드가 경로에 없다면\u001b[0m\u001b[1;33m\u001b[0m\u001b[1;33m\u001b[0m\u001b[0m\n\u001b[0;32m     10\u001b[0m             \u001b[0mpath\u001b[0m\u001b[1;33m.\u001b[0m\u001b[0mappend\u001b[0m\u001b[1;33m(\u001b[0m\u001b[0mnode\u001b[0m\u001b[1;33m)\u001b[0m \u001b[1;31m# 경로에 그 노드를 추가한다.\u001b[0m\u001b[1;33m\u001b[0m\u001b[1;33m\u001b[0m\u001b[0m\n\u001b[1;32m---> 11\u001b[1;33m             \u001b[0mstack\u001b[0m\u001b[1;33m.\u001b[0m\u001b[0mextend\u001b[0m\u001b[1;33m(\u001b[0m\u001b[0mgraph\u001b[0m\u001b[1;33m[\u001b[0m\u001b[0mnode\u001b[0m\u001b[1;33m]\u001b[0m\u001b[1;33m)\u001b[0m \u001b[1;31m# 그 노드와 인접해 있는 노드(들)도 스택에 넣어준다.(리스트 째로 넣기에 append 대신 extend를 사용했다.)\u001b[0m\u001b[1;33m\u001b[0m\u001b[1;33m\u001b[0m\u001b[0m\n\u001b[0m\u001b[0;32m     12\u001b[0m \u001b[1;33m\u001b[0m\u001b[0m\n\u001b[0;32m     13\u001b[0m     \u001b[1;32mreturn\u001b[0m \u001b[0mprint\u001b[0m\u001b[1;33m(\u001b[0m\u001b[1;34m' -> '\u001b[0m\u001b[1;33m.\u001b[0m\u001b[0mjoin\u001b[0m\u001b[1;33m(\u001b[0m\u001b[0mmap\u001b[0m\u001b[1;33m(\u001b[0m\u001b[0mstr\u001b[0m\u001b[1;33m,\u001b[0m\u001b[0mpath\u001b[0m\u001b[1;33m)\u001b[0m\u001b[1;33m)\u001b[0m\u001b[1;33m)\u001b[0m \u001b[1;31m# 마지막으로 경로를 리턴해 준다.\u001b[0m\u001b[1;33m\u001b[0m\u001b[1;33m\u001b[0m\u001b[0m\n",
      "\u001b[1;31mTypeError\u001b[0m: list indices must be integers or slices, not str"
     ]
    }
   ],
   "source": [
    "result=DFS(map,m)"
   ]
  }
 ],
 "metadata": {
  "kernelspec": {
   "display_name": "Python 3 (ipykernel)",
   "language": "python",
   "name": "python3"
  },
  "language_info": {
   "codemirror_mode": {
    "name": "ipython",
    "version": 3
   },
   "file_extension": ".py",
   "mimetype": "text/x-python",
   "name": "python",
   "nbconvert_exporter": "python",
   "pygments_lexer": "ipython3",
   "version": "3.9.13"
  }
 },
 "nbformat": 4,
 "nbformat_minor": 5
}
