{
 "cells": [
  {
   "cell_type": "code",
   "execution_count": 4,
   "id": "e1273ea3",
   "metadata": {},
   "outputs": [],
   "source": [
    "class Set:   \n",
    "    def __init__( self ):\n",
    "        self.items = []\n",
    "\n",
    "    def size( self ): \n",
    "        return len(self.items)\n",
    "    def display(self, msg):\n",
    "        print(msg, self.items)\n",
    "\n",
    "    def contains(self, item) :\n",
    "        return item in self.items\n",
    "\n",
    "    def contains(self, item) :\n",
    "        for i in range(len(self.items)):\n",
    "            if self.items[i] == item :\n",
    "                return True\n",
    "        return False\n",
    "\n",
    "    def insert(self, elem) :\n",
    "        if elem not in self.items :\n",
    "            self.items.append(elem)\n",
    "\n",
    "    def delete(self, elem) :\n",
    "        if elem in self.items :\n",
    "            self.items.remove(elem)\n",
    "\n",
    "    def union( self, setB ):   \n",
    "        setC = Set()\n",
    "        setC.items = list(self.items)\n",
    "        \n",
    "        for elem in setB.items :\n",
    "            if elem not in self.items :\n",
    "                setC.items.append(elem)\n",
    "        return setC.items\n",
    "\n",
    "    def intersect( self, setB ):\n",
    "        setC = Set()\n",
    "        for elem in setB.items :\n",
    "            if elem in self.items :\n",
    "                setC.items.append(elem)\t\n",
    "        return setC\n",
    "\n",
    "    def difference( self, setB ):    \n",
    "        setC = Set()\n",
    "        for elem in self.items:   \n",
    "            if elem not in setB.items:\n",
    "                setC.items.append(elem)\n",
    "        return setC\n"
   ]
  },
  {
   "cell_type": "code",
   "execution_count": 5,
   "id": "cce62a22",
   "metadata": {},
   "outputs": [
    {
     "data": {
      "text/plain": [
       "[1, 2, 3, 4, 5, 6, 7, 8]"
      ]
     },
     "execution_count": 5,
     "metadata": {},
     "output_type": "execute_result"
    }
   ],
   "source": [
    "A=Set()\n",
    "B=Set()\n",
    "A.insert(1),A.insert(2),A.insert(3),A.insert(4),A.insert(5)\n",
    "B.insert(4),B.insert(5),B.insert(6),B.insert(7),B.insert(8)\n",
    "A.union(B)"
   ]
  },
  {
   "cell_type": "code",
   "execution_count": 12,
   "id": "38e3ca00",
   "metadata": {},
   "outputs": [],
   "source": [
    "class Entry:\n",
    "    def __init__(self,key,value):\n",
    "        self.key = key\n",
    "        self.value = value\n",
    "        \n",
    "    def __ str__(self):\n",
    "        return str(\"%s:%s\" % (self.key,self.value) )"
   ]
  },
  {
   "cell_type": "code",
   "execution_count": null,
   "id": "a3ee1904",
   "metadata": {},
   "outputs": [],
   "source": []
  }
 ],
 "metadata": {
  "kernelspec": {
   "display_name": "Python 3 (ipykernel)",
   "language": "python",
   "name": "python3"
  },
  "language_info": {
   "codemirror_mode": {
    "name": "ipython",
    "version": 3
   },
   "file_extension": ".py",
   "mimetype": "text/x-python",
   "name": "python",
   "nbconvert_exporter": "python",
   "pygments_lexer": "ipython3",
   "version": "3.9.13"
  }
 },
 "nbformat": 4,
 "nbformat_minor": 5
}
